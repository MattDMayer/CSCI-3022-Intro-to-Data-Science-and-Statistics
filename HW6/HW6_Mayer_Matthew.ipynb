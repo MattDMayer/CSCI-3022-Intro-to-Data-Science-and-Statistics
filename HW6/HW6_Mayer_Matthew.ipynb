{
 "cells": [
  {
   "cell_type": "markdown",
   "metadata": {},
   "source": [
    "# Homework 06: Expected Value and Variance\n",
    "***\n",
    "\n",
    "**Name**: Matthew Mayer\n",
    "\n",
    "***\n",
    "\n",
    "This assignment is due on Canvas by **6:00PM on Friday October 7**. Your solutions to theoretical questions should be done in Markdown directly below the associated question.  Your solutions to computational questions should include any specified Python code and results as well as written commentary on your conclusions.  Remember that you are encouraged to discuss the problems with your classmates, but **you must write all code and solutions on your own**.\n",
    "\n",
    "**NOTES**: \n",
    "\n",
    "- Any relevant data sets should be available in the Homework 01 assignment write-up on Canvas. To make life easier on the grader if they need to run your code, do not change the relative path names here. Instead, move the files around on your computer.\n",
    "- If you're not familiar with typesetting math directly into Markdown then by all means, do your work on paper first and then typeset it later.  Remember that there is a [reference guide](https://math.meta.stackexchange.com/questions/5020/mathjax-basic-tutorial-and-quick-reference) linked on Canvas on writing math in Markdown. **All** of your written commentary, justifications and mathematical work should be in Markdown.\n",
    "- Because you can technically evaluate notebook cells is a non-linear order, it's a good idea to do $\\color{red}{\\text{Kernel}}$ $\\color{red}\\rightarrow$ $\\color{red}{\\text{Restart & Run All}}$ as a check before submitting your solutions.  That way if we need to run your code you will know that it will work as expected. \n",
    "- It is **bad form** to make your reader interpret numerical output from your code.  If a question asks you to compute some value from the data you should show your code output **AND** $\\color{red}{\\text{write a summary of the results}}$ in Markdown directly below your code. \n",
    "- This probably goes without saying, but... For any question that asks you to calculate something, you **must show all work and justify your answers to receive credit**. Sparse or nonexistent work will receive sparse or nonexistent credit. \n",
    "\n",
    "---"
   ]
  },
  {
   "cell_type": "markdown",
   "metadata": {},
   "source": [
    "Import Pandas, NumPy, and matplotlib.pylab."
   ]
  },
  {
   "cell_type": "code",
   "execution_count": 5,
   "metadata": {},
   "outputs": [],
   "source": [
    "import pandas as pd\n",
    "import numpy as np\n",
    "import matplotlib.pylab as plt\n",
    "%matplotlib inline "
   ]
  },
  {
   "cell_type": "markdown",
   "metadata": {},
   "source": [
    "# Problem 1\n",
    "***\n",
    "Consider a continuous random variable $X$ with a PDF given by:\n",
    "\n",
    "$f(x)=\n",
    "    \\begin{cases}\n",
    "        \\frac{1}{10}(1-\\frac{1}{20}x) & \\text{if } 0\\leq x\\leq20\\\\\n",
    "        0 & \\text{elsewhere} \n",
    "    \\end{cases}$\n",
    "    \n",
    "Furthermore, consider $Y$ to be a random variable with values $Y=3X+5$."
   ]
  },
  {
   "cell_type": "markdown",
   "metadata": {},
   "source": [
    "### Part A\n",
    "\n",
    "***(2 points)*** Show that $f(x)$ is a valid PDF."
   ]
  },
  {
   "cell_type": "markdown",
   "metadata": {},
   "source": [
    "\n",
    "$\\int_{-\\infty}^{0} 0  , dx = 0$\n",
    "\n",
    "$\\int_{0}^{20} \\frac{1}{10}(1-\\frac{1}{20}x)  , dx \\text{ } =\\text{ } \\frac{1}{10}\\int_{0}^{20} (1-\\frac{1}{20}x)  , dx \\text{ }= \\text{ }\\frac{1}{10}\\int_{0}^{20} 1 , dx - \\frac{1}{10}\\int_{0}^{20} \\frac{1}{20}x  , dx \\text{ } = \\text{ }\\frac{1}{10}\\int_{0}^{20} 1 , dx - \\frac{1}{200}\\int_{0}^{20} x , dx \\text{ } = \\text{ } [\\frac{1}{10}x]_0^{20} - [\\frac{1}{200}\\frac{x^2}{2}]_0^{20}$\n",
    "\n",
    "$[\\frac{1}{10}x]_0^{20} - [\\frac{1}{200}\\frac{x^2}{2}]_0^{20} \\text{ }=\\text{ } [\\frac{1}{10}\\cdot 20 - 0] - [\\frac{1}{200}\\frac{400}{2} - 0] \\text{ }= \\text{ } [2-0] - [1-0] \\text{ }= \\text{ } 2-1 \\text{ }=\\text{ } 1 $\n",
    "\n",
    "$\\int_{20}^{\\infty} 0  , dx = 0$\n",
    "\n",
    "\n",
    "***solution:*** Since the area under $f(x)$ is equal to 1 and every value of $f(x) \\geq 0$.\n"
   ]
  },
  {
   "cell_type": "markdown",
   "metadata": {},
   "source": [
    "### Part B\n",
    "\n",
    "***(2 points)*** Find $E[X]$."
   ]
  },
  {
   "cell_type": "markdown",
   "metadata": {},
   "source": [
    "$E[x]=\\int xf(x), dx$\n",
    "\n",
    "$\\int_{-\\infty}^{0} x\\cdot 0  , dx = 0$\n",
    "\n",
    "$\\int_{0}^{20} x\\frac{1}{10}(1-\\frac{1}{20}x)  , dx \\text{ } = \\text{ } \\int_{0}^{20} \\frac{x}{10}(1-\\frac{1}{20}x)  , dx \\text{ } = \\text{ } \\int_{0}^{20} (\\frac{x}{10}-\\frac{x}{200}x)  , dx \\text{ } = \\text{ } \\int_{0}^{20} (\\frac{x}{10}-\\frac{x^2}{200})  , dx \\text{ } = \\text{ } \\frac{1}{10}\\int_0^{20}x, dx -  \\frac{1}{200}\\int_0^{20}x^2, dx $ \n",
    "\n",
    "$[\\frac{1}{10}\\cdot\\frac{x^2}{2}]_0^{20} - [\\frac{1}{200}\\cdot\\frac{x^3}{3}]_0^{20} \\text{ } = \\text{ } [\\frac{x^2}{20}]_0^{20} - [\\frac{1}{200}\\cdot\\frac{x^3}{3}]_0^{20} \\text{ } = \\text{ } [\\frac{400}{20} - 0]- [\\frac{8000}{600}-0] \\text{ } = \\text{ } [\\frac{12000}{600}-\\frac{8000}{600}] \\text{ } = \\text{ } \\frac{4000}{600} \\text{ } = \\text{ } \\frac{20}{3}$\n",
    "\n",
    "$\\int_{20}^{\\infty} x\\cdot 0  , dx = 0$\n",
    "\n",
    "***solution:*** Put your solution to Part B here: $\\frac{20}{3}$\n"
   ]
  },
  {
   "cell_type": "markdown",
   "metadata": {},
   "source": [
    "### Part C\n",
    "\n",
    "***(2 points)*** Find $Var(X)$. "
   ]
  },
  {
   "cell_type": "markdown",
   "metadata": {},
   "source": [
    "$\\text{Var}(X)= E[X^2]-(E[X])^2$\n",
    "\n",
    "$\\int_{-\\infty}^{0} x^2\\cdot 0  , dx = 0$\n",
    "\n",
    "$\\int_{0}^{20} x^2\\cdot\\frac{1}{10}(1-\\frac{1}{20}x)  , dx \\text{ } =\\text{ } \\int_{0}^{20} \\frac{x^2}{10}(1-\\frac{1}{20}x)  , dx \\text{ } = \\text{ }\\int_{0}^{20} (\\frac{x^2}{10} - \\frac{x^3}{200})  , dx \\text{ } = \\text{ } \\frac{1}{10}\\int_0^{20} x^2, dx - \\frac{1}{200}\\int_0^{20}x^3, dx \\text{ } = \\text{ } [\\frac{1}{10}\\frac{x^3}{3}]_0^{20} - [\\frac{1}{200}\\frac{x^4}{4}]_0^{20}$\n",
    "\n",
    "$[\\frac{1}{10}\\frac{x^3}{3}]_0^{20} - [\\frac{1}{200}\\frac{x^4}{4}]_0^{20} \\text{ } = \\text{ } [\\frac{8000}{30}-0] - [\\frac{160000}{800}-0] \\text{ } = \\text{} \\frac{800}{3}-\\frac{16000}{80}\\text{ } = \\text{ } \\frac{200}{3}$\n",
    "\n",
    "$\\int_{20}^{\\infty} x^2\\cdot 0  , dx = 0$\n",
    "\n",
    "***solution:*** $\\frac{200}{3}$\n"
   ]
  },
  {
   "cell_type": "markdown",
   "metadata": {},
   "source": [
    "### Part D\n",
    "\n",
    "***(2 points)*** Find $E[Y]$."
   ]
  },
  {
   "cell_type": "markdown",
   "metadata": {},
   "source": [
    "$Y=3x+5$, this is close enough to $g(x)=rx+s$ to be applied to the change of base formula to solve for $E[Y]$.\n",
    "\n",
    "$E[3x+_5] = \\int(3x+5)f(x), dx$\n",
    "\n",
    "$\\int_{-\\infty}^0(3x+5)(0), dx = 0$\n",
    "\n",
    "$\\int_0^{20}(3x+5)f(x), dx\\text{ } = \\text{ }\\int_0^{20}3x\\cdot f(x), dx + \\int_{0}^{20}5f(x), dx\\text{ } = \\text{ } 3\\int_0^{20}xf(x), dx + 5\\int_{0}^{20}f(x), dx$\n",
    "\n",
    "$3\\int_0^{20}xf(x), dx + 5\\int_{0}^{20}f(x), dx \\text{ }=\\text{ } 3E[X]+5\\cdot1\\text{ } = \\text{ } 3(\\frac{20}{3})+5=25$\n",
    "\n",
    "$\\int_{20}^\\infty(3x+5)(0), dx = 0$\n",
    "\n",
    "$0+25+0$\n",
    "***solution:*** $E[Y]=25$\n"
   ]
  },
  {
   "cell_type": "markdown",
   "metadata": {},
   "source": [
    "### Part E\n",
    "\n",
    "***(2 points)*** Find $Var(Y)$."
   ]
  },
  {
   "cell_type": "markdown",
   "metadata": {},
   "source": [
    "From the notes we know that $\\text{Var}(rX+s) = r^2\\text{Var}(X)$\n",
    "\n",
    "We also can see that $Y=3x+5$ fits into the formula $rX+s$ where $3=r$ and $5=s$\n",
    "\n",
    "This means we have: $\\text{Var}(Y) = \\text{Var}(3x+5) = 3^2\\text{Var}(X)$.\n",
    "Pluging in the answer for part C into Var(3X) we get:\n",
    "\n",
    "$\\text{Var}(Y) =3^2\\text{Var}(X) \\text{ } = \\text{ } 9\\cdot\\frac{200}{3}\\text{ } = \\text{ } 600$\n",
    "\n",
    "***solution:*** $\\text{Var}(Y)=600$\n"
   ]
  },
  {
   "cell_type": "markdown",
   "metadata": {},
   "source": [
    "# Problem 2\n",
    "***\n",
    "\n",
    "![image](wheel.png)\n",
    "\n",
    "Consider the American roulette wheel as pictured above. "
   ]
  },
  {
   "cell_type": "markdown",
   "metadata": {},
   "source": [
    "### Part A\n",
    "\n",
    "Suppose you decide to bet on red23 over and over and over again UNTIL you win, then you'll stop playing.\n",
    "\n",
    "Winning means the ball lands on the red23 slot - and it has an equal chance of landing in any of the slots. \n",
    "\n",
    "So, you might play only once (if you win in one game.) Or, perhaps you'll play twice, or three times, etc. before you win. \n",
    "\n",
    "Let $X$ be the random variable, \"Number of times you play till you win.\"\n",
    "\n",
    "***(2 points)*** How many times do you expect to play before you win?"
   ]
  },
  {
   "cell_type": "markdown",
   "metadata": {},
   "source": [
    "Probability of a getting a particular slot on the wheel, i.e. a win is $p=\\frac{1}{38}$.\n",
    "Much like the lottery problem from lecture, this is a geometric distribution.\n",
    "\n",
    "Expectation of geometric distribution:$E[X]=\\sum_{k=1}^\\infty kp(1-p)^{k-1}=1/p$\n",
    "\n",
    "In this case that means: $E[X]=\\frac{1}{\\frac{1}{38}}=38$\n",
    "\n",
    "***solution:*** This means we would expect to see 38 plays before a win.\n"
   ]
  },
  {
   "cell_type": "markdown",
   "metadata": {},
   "source": [
    "### Part B\n",
    "\n",
    "***(3 points)*** What is the probability that you don't win until your 4th attempt?"
   ]
  },
  {
   "cell_type": "markdown",
   "metadata": {},
   "source": [
    "$P(X=4)=(1-\\frac{1}{38})^4\\cdot\\frac{1}{38} = \\frac{37}{38}^3\\cdot\\frac{1}{38} = \\frac{50653}{54872\\cdot38} = \\frac{50653}{2085136} \\approx .0243$\n",
    "\n",
    "***solution:*** The probability that you win on your 4th attempt is .0243 or 2.43%.\n"
   ]
  },
  {
   "cell_type": "markdown",
   "metadata": {},
   "source": [
    "### Part C\n",
    "\n",
    "Recall from Calculus that a geometric series with ratio $r$ diverges if $|r|>1$, but if $0<|r|<1$ then the series converges:\n",
    "\n",
    "$\\displaystyle{\\sum_{n=0}^{\\infty}ar^n=\\frac{a}{1-r}}$.\n",
    "\n",
    "Therefore, for $0<p<1$, we have $\\displaystyle{\\sum_{k=0}^{\\infty}p(1-p)^k=p\\cdot\\frac{1}{1-(1-p)}=1}.$\n",
    "\n",
    "***(5 points)*** Explain (show) why $\\displaystyle{E[X]=\\sum_{k=1}^{\\infty}kp(1-p)^{k-1}=\\frac{1}{p}}$."
   ]
  },
  {
   "cell_type": "markdown",
   "metadata": {},
   "source": [
    "***solution:***\n",
    "\n",
    "$E[X]=\\sum_{k=1}^{\\infty}kp(1-p)^{k-1}=\\frac{1}{p} = 1*p+2*(1-p)p+3*(1-p)^2p+4*(1-p)^3p+...$ as given in the notes.\n",
    "\n",
    "$(1-p)E[X]=1p(1-p)+2p(1-p)^2+3p(1-p)^3+4p(1-p)^4+...$\n",
    "\n",
    "$E[X]-(1-p)E[X]= (1*p+2*(1-p)p+3*(1-p)^2p+4*(1-p)^3p+...) -(1p(1-p)+2p(1-p)^2+3p(1-p)^3+4p(1-p)^4+...)$\n",
    "\n",
    "$E[X]-(1-p)E[X]= 1p+1p(1-p)+1p(1-p)^2+1p(1-p)^3+...$ \n",
    "\n",
    "$E[X]-(1-p)E[X] = E[X]+(p-1)E[X] = E[X] + pE[X] - E[X]$\n",
    "\n",
    "$pE[X] = 1p+1p(1-p)+1p(1-p)^2+1p(1-p)^3+...$\n",
    "\n",
    "$E[X] = 1+1(1-p)+1(1-p)^2+1(1-p)^3+...$\n",
    "\n",
    "\n",
    "\n",
    "${\\sum_{n=0}^{\\infty}ar^k=\\frac{a}{1-r}}$\n",
    "\n",
    "$\\sum_{k=0}^{\\infty}1(1-p)^k=1\\cdot\\frac{1}{1-(1-p)}=\\frac{1}{1+(p-1)}=\\frac{1}{p}$\n",
    "\n",
    "So $\\displaystyle{E[X]=\\sum_{k=1}^{\\infty}kp(1-p)^{k-1}=\\frac{1}{p}}$ has been shown via diret proof."
   ]
  },
  {
   "cell_type": "markdown",
   "metadata": {},
   "source": [
    "### Part D\n",
    "\n",
    "***(3 points)*** What is $E[X]$ ?"
   ]
  },
  {
   "cell_type": "markdown",
   "metadata": {},
   "source": [
    "Since $E[X]$ is the expected value of $X$ / mean of $X$ and which is expressed as $\\frac{1}{p}$ we know that in this case $p=\\frac{1}{38}$ we know that $E[X]=\\frac{1}{\\frac{1}{38}}=38$\n",
    "\n",
    "***solution:*** 38\n"
   ]
  },
  {
   "cell_type": "markdown",
   "metadata": {},
   "source": [
    "### Part E\n",
    "\n",
    "You are interested in knowing how much money you should expect to win $\\textbf{each time you play.}$ Afterall, you have decided to play over and over again till you win.\n",
    "\n",
    "Now, let $X$ be the random variable, \"Amount of money you win.\"\n",
    "\n",
    "You are still betting on 23red, and each bet costs \\$1.\n",
    "\n",
    "If you lose, you lose your dollar.\n",
    "\n",
    "If you win, you get your dollar back $\\textbf{and}$ you get an additional \\$35 for winning.\n",
    "\n",
    "***(3 points)*** What is $E[X]$ ?"
   ]
  },
  {
   "cell_type": "markdown",
   "metadata": {},
   "source": [
    "$E[X] = p\\cdot\\text{winnings} + (1-p)\\cdot\\text{cost}$\n",
    "\n",
    "$E[X] = \\frac{1}{38}\\cdot(35+1) + \\frac{37}{38}\\cdot{-1} = \\frac{36}{38}-\\frac{37}{38} = \\frac{-1}{38} \\approx -0.0263$\n",
    "\n",
    "$E[X] \\approx -0.0263$\n",
    "\n",
    "***solution:*** $E[X] \\approx -0.0263$ which means you lose around 2.6 cents a game.\n"
   ]
  },
  {
   "cell_type": "markdown",
   "metadata": {},
   "source": [
    "# Problem 3\n",
    "***\n",
    "\n",
    "***Using the definition*** of expected value and variance,\n",
    "\n",
    "Discrete: $E[X] = \\sum_ia_i\\cdot P(X=a_i)$.\n",
    "\n",
    "Continuous: $E[X] = \\int_{-\\infty}^{\\infty}xf(x)\\phantom{x}dx$\n",
    "\n",
    "$Var(X) = E\\left[(X-E[X])^2\\right] = E[X^2]-(E[X])^2$\n",
    "\n",
    "Find the following:"
   ]
  },
  {
   "cell_type": "markdown",
   "metadata": {},
   "source": [
    "### Part A\n",
    "\n",
    "***(3 points)*** Suppose $X$~$U[\\alpha, \\beta]$, find $E[X]$. $X$ takes on all real values between $\\alpha$ and $\\beta$."
   ]
  },
  {
   "cell_type": "markdown",
   "metadata": {},
   "source": [
    "***solution:***\n",
    "\n",
    "For a uniform distribution $U$ $f(x) = \\frac{1}{\\beta-\\alpha} \\text{ for } \\mathcal{a}  \\leq x \\leq \\mathcal{B}, 0\\text { everywhere else.}$\n",
    "\n",
    "$E[X]=\\int_\\alpha^\\beta x\\cdot \\frac{1}{\\beta-\\alpha}, dx \\text{ } = \\text{ } \\frac{1}{\\beta-\\alpha}\\int_\\alpha^\\beta x, dx \\text{ } = \\text{ } \\frac{1}{\\beta-\\alpha}[\\frac{x^2}{2}]_\\alpha^\\beta$\n",
    "\n",
    "$\\frac{1}{\\beta-\\alpha}[\\frac{x^2}{2}]_\\alpha^\\beta \\text{ } = \\text{ } \\frac{1}{\\beta-\\alpha}[\\frac{\\beta^2}{2}-\\frac{\\alpha^2}{2}] \\text{ } = \\text{ } \\frac{\\beta^2-\\alpha^2}{2(\\beta-\\alpha)} \\text{ } = \\text{ } \\frac{(\\beta-\\alpha)(\\beta+\\alpha)}{2(\\beta-\\alpha)} \\text{ } = \\text{ } \\frac{\\beta+\\alpha}{2}$\n",
    "\n",
    "Therfore $E[X]$ on a uniform distribution is $\\frac{\\beta+\\alpha}{2}$ by direct proof.\n",
    "\n"
   ]
  },
  {
   "cell_type": "markdown",
   "metadata": {},
   "source": [
    "### Part B\n",
    "\n",
    "***(3 points)*** Suppose $X$~$U[\\alpha, \\beta]$, find $Var[X]$."
   ]
  },
  {
   "cell_type": "markdown",
   "metadata": {},
   "source": [
    "***solution:*** \n",
    "$\\text{Var}(X) = E[X^2] - (E[X])^2$\n",
    "\n",
    "$E[X]^2=\\int_\\alpha^\\beta x^2\\cdot\\frac{1}{\\beta-\\alpha}, dx \\text{ } = \\text{ } \\frac{1}{\\beta-\\alpha}\\int_\\alpha^\\beta x^2, dx \\text{ } = \\text{ } \\frac{1}{\\beta-\\alpha}[\\frac{x^3}{3}]_\\alpha^\\beta$\n",
    "\n",
    "$\\frac{1}{\\beta-\\alpha}[\\frac{\\beta^3-\\alpha^3}{3}]\\text{ } = \\text{ } \\frac{\\beta^3-\\alpha^3}{3(\\beta-\\alpha)}\\text{ } = \\text{ } \\frac{(\\beta-\\alpha) (\\beta^2+\\beta\\alpha+\\alpha^2)}{3(\\beta-\\alpha)}\\text{ } = \\text{ } \\frac{\\beta^2+\\beta\\alpha+\\alpha^2}{3}$\n",
    "\n",
    "Combining this with the answer for part A:\n",
    "\n",
    "$\\text{Var}(x)= \\frac{\\beta^2+\\beta\\alpha+\\alpha^2}{3} - \\frac{\\beta+\\alpha}{2}^2$\n",
    "\n",
    "$\\frac{\\beta^2+\\beta\\alpha+\\alpha^2}{3} - \\frac{\\beta^2+2\\beta\\alpha+\\alpha^2}{4}\\text{ } = \\text{ } \\frac{4\\beta^2+4\\beta\\alpha+4\\alpha^2}{12} - \\frac{3\\beta^2+6\\beta\\alpha+3\\alpha^2}{12} \\text{ } = \\text{ } \\frac{\\beta^2-2\\beta\\alpha+\\alpha^2}{12}$\n",
    "\n",
    "Therfore $\\text{Var}(X) = \\frac{\\beta^2-2\\beta\\alpha+\\alpha^2}{12}$  for a uniform distribution via direct proof."
   ]
  },
  {
   "cell_type": "markdown",
   "metadata": {},
   "source": [
    "### Part C\n",
    "\n",
    "***(3 points)*** Suppose $X$~$Ber(p)$, find $E[X]$."
   ]
  },
  {
   "cell_type": "markdown",
   "metadata": {},
   "source": [
    "***solution:*** \n",
    "\n",
    "A Bernoulli  is going to mean that X is a discrete random variable. Because this is the case we know that: $E[X]=\\sum_ia_i\\cdot P(X=a_i)$\n",
    "\n",
    "$E[X]=\\sum_ia_i\\cdot P(X=a_i) = (0\\cdot P(X=0) + 1\\cdot P(x=1) = 0\\cdot(1-p)+1\\cdot p  = p$\n",
    "\n",
    "Therefore $E[X]$ for a Bernoulli is equal to $p$ via direct proof."
   ]
  },
  {
   "cell_type": "markdown",
   "metadata": {},
   "source": [
    "### Part D\n",
    "\n",
    "***(3 points)*** Suppose $X$~$Ber(p)$, find $Var[X]$."
   ]
  },
  {
   "cell_type": "markdown",
   "metadata": {},
   "source": [
    "***solution:*** Starting with the standard varianve equation: $\\text{Var}(X) = E[X^2] - (E[X])^2$\n",
    "\n",
    "$E[X]=\\sum_ia_i\\cdot a_i\\cdot P(X=a_i) = (0\\cdot 0 \\cdot P(X=0) + 1\\cdot 1 \\cdot P(x=1) = 0\\cdot(1-p)+1\\cdot p  = p$\n",
    "\n",
    "We then combine this with the above answer to get:\n",
    "\n",
    "$\\text{Var}(X) = E[X^2] - (E[X])^2 = p - p^2 = p(1-p)$\n",
    "\n",
    "Therfore the variance of a random variable given that it is a Bernoulli variable is $p(1-p)$ via direct proof."
   ]
  },
  {
   "cell_type": "markdown",
   "metadata": {},
   "source": [
    "# Problem 4\n",
    "***\n",
    "\n",
    "Consider a card game played with a standard deck of 52 cards.\n",
    "\n",
    "The cards are shuffled, a card is chosen, recorded, and returned to the deck.\n",
    "\n",
    "This is done three times and the record of three choices is observed.\n",
    "\n",
    "The game costs \\$1 to play.\n",
    "\n",
    "If all three cards have the same number, then you get your dollar back plus \\$3.\n",
    "\n",
    "If you only have two cards with the same number, then you get your dollar back plus \\$2.\n",
    "\n",
    "If all three cards are of the same suit, then you get your dollar back plus \\$2.\n",
    "\n",
    "Examples:\n",
    "\n",
    "Ace of spades, Ace of clubs, 5 of diamonds: dollar back plus \\$2.\n",
    "\n",
    "Ace of spaces,2 of spades, 7 of spades: dollar back plus \\$2.\n",
    "\n",
    "5 of diamonds, 8 of diamonds, 8 of diamonds: dollar back plus \\$2, plus \\$2.\n",
    "\n",
    "4 of hearts, 4 of hearts, 4 hearts: dollar back plus \\$3, plus \\$2.\n",
    "\n",
    "6 of diamonds, 6 of hearts, 6 of clubs: dollar back plus \\$3.\n",
    "\n",
    "3 of hearts, 5 of diamonds, Queen of clubs: Lose your dollar.\n",
    "\n",
    "***(7 points)*** Write a function or functions that will create a random draw of three cards as described above. Simulate this game (at least 1000 times) and determine from the simulation the expected winnings per dollar of this game. "
   ]
  },
  {
   "cell_type": "code",
   "execution_count": 26,
   "metadata": {},
   "outputs": [
    {
     "name": "stdout",
     "output_type": "stream",
     "text": [
      "Your winnings per game are going to be on average  -0.111  dollars.\n"
     ]
    }
   ],
   "source": [
    "# Put your code for Problem 4 here:\n",
    "def card():\n",
    "    value = np.array([2, 3, 4, 5, 6, 7, 8, 9, 10] + [\"Ace\", \"Jack\", \"Queen\", \"King\"])\n",
    "    suit = np.array([\"Spades\", \"Hearts\", \"Clubs\", \"Diamonds\"])\n",
    "    draw = np.array([np.random.choice(value), np.random.choice(suit)])\n",
    "    return draw\n",
    "\n",
    "def draw_hand():\n",
    "    hand = np.asarray([card() for i in range(3)])\n",
    "    return hand\n",
    "\n",
    "def game():\n",
    "    winnings = -1\n",
    "    hand = draw_hand()\n",
    "    #3 value same check\n",
    "    if((hand[0,0] == hand[1,0]) and (hand[1,0] == hand [2,0])):\n",
    "        winnings = 4\n",
    "    #2 value same check\n",
    "    elif((hand[0,0] == hand[1,0]) or (hand[1,0] == hand[2,0]) or (hand[2,0] == hand[0,0])):\n",
    "        winnings = 3\n",
    "    #Suit check\n",
    "    if((hand[0,0] == hand[0,1]) and (hand[0,1]==hand[0,2])):\n",
    "        winnings = winnings + 2\n",
    "    return winnings\n",
    "\n",
    "def sim(runs):\n",
    "    winnings = sum(game() for i in range(runs))\n",
    "    winningspergame = winnings/runs\n",
    "    return(winningspergame)\n",
    "\n",
    "print(\"Your winnings per game are going to be on average \", sim(10000), \" dollars.\")"
   ]
  },
  {
   "cell_type": "markdown",
   "metadata": {},
   "source": [
    "### Rubric Check\n",
    "***\n",
    "***(5 points)*** Makesure your answers are thorough but not redundant. Explain your answers, don't just put a number. Make sure you have matched your questions on Gradescope. Make sure your PDF is correct and your LaTeX is correct. etc. etc. BE NEAT."
   ]
  }
 ],
 "metadata": {
  "kernelspec": {
   "display_name": "Python 3 (ipykernel)",
   "language": "python",
   "name": "python3"
  },
  "language_info": {
   "codemirror_mode": {
    "name": "ipython",
    "version": 3
   },
   "file_extension": ".py",
   "mimetype": "text/x-python",
   "name": "python",
   "nbconvert_exporter": "python",
   "pygments_lexer": "ipython3",
   "version": "3.10.5"
  }
 },
 "nbformat": 4,
 "nbformat_minor": 4
}
