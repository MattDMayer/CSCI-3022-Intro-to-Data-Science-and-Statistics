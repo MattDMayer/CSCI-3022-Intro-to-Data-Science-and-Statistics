{
 "cells": [
  {
   "cell_type": "markdown",
   "metadata": {},
   "source": [
    "# Homework 07: The Normal Distribution, The Central Limit Theorem, Confidence Intervals\n",
    "***\n",
    "\n",
    "**Name**: Matthew Mayer\n",
    "\n",
    "***\n",
    "\n",
    "This assignment is due on Canvas by **6:00PM on Friday October 28**. Your solutions to theoretical questions should be done in Markdown directly below the associated question.  Your solutions to computational questions should include any specified Python code and results as well as written commentary on your conclusions.  Remember that you are encouraged to discuss the problems with your classmates, but **you must write all code and solutions on your own**.\n",
    "\n",
    "**NOTES**: \n",
    "\n",
    "- Any relevant data sets should be available in the Homework 01 assignment write-up on Canvas. To make life easier on the grader if they need to run your code, do not change the relative path names here. Instead, move the files around on your computer.\n",
    "- If you're not familiar with typesetting math directly into Markdown then by all means, do your work on paper first and then typeset it later.  Remember that there is a [reference guide](https://math.meta.stackexchange.com/questions/5020/mathjax-basic-tutorial-and-quick-reference) linked on Canvas on writing math in Markdown. **All** of your written commentary, justifications and mathematical work should be in Markdown.\n",
    "- Because you can technically evaluate notebook cells is a non-linear order, it's a good idea to do $\\color{red}{\\text{Kernel}}$ $\\color{red}\\rightarrow$ $\\color{red}{\\text{Restart & Run All}}$ as a check before submitting your solutions.  That way if we need to run your code you will know that it will work as expected. \n",
    "- It is **bad form** to make your reader interpret numerical output from your code.  If a question asks you to compute some value from the data you should show your code output **AND** $\\color{red}{\\text{write a summary of the results}}$ in Markdown directly below your code. \n",
    "- This probably goes without saying, but... For any question that asks you to calculate something, you **must show all work and justify your answers to receive credit**. Sparse or nonexistent work will receive sparse or nonexistent credit. \n",
    "\n",
    "---"
   ]
  },
  {
   "cell_type": "markdown",
   "metadata": {},
   "source": [
    "For this HW you will want to import a few of the usuals:"
   ]
  },
  {
   "cell_type": "code",
   "execution_count": 1,
   "metadata": {},
   "outputs": [],
   "source": [
    "# Per the standard import pandas as 'pd' and numpy as 'np'\n",
    "import pandas as pd\n",
    "import numpy as np\n",
    "import matplotlib.pylab as plt\n",
    "%matplotlib inline \n",
    "import scipy.stats as stats\n",
    "from scipy.stats import norm"
   ]
  },
  {
   "cell_type": "markdown",
   "metadata": {},
   "source": [
    "# Problem 1\n",
    "***\n",
    "We are going to look at some data from an insurance company that insures teenage drivers. `insurance.csv` is a sample of 1000 males and 1000 females all of whose ages are between 16 and 19 inclusive.\n",
    "\n",
    "This insurance company has decided to use 'sex' as a proxy for deciding how large of a premium to charge for car insurance.\n",
    "\n",
    "Read in the csv file `insurance.csv`.\n",
    "\n",
    "### Part A\n",
    "***(1 point)*** Load the `csv` file into a dataframe and call it `dfInsurance`:"
   ]
  },
  {
   "cell_type": "code",
   "execution_count": 2,
   "metadata": {},
   "outputs": [],
   "source": [
    "# Read 'insurance' into dfInsurance\n",
    "dfInsurance = pd.read_csv('insurance.csv')"
   ]
  },
  {
   "cell_type": "markdown",
   "metadata": {},
   "source": [
    "### Part B\n",
    "***(1 point)*** Take a look at the data."
   ]
  },
  {
   "cell_type": "code",
   "execution_count": 3,
   "metadata": {},
   "outputs": [
    {
     "data": {
      "text/html": [
       "<div>\n",
       "<style scoped>\n",
       "    .dataframe tbody tr th:only-of-type {\n",
       "        vertical-align: middle;\n",
       "    }\n",
       "\n",
       "    .dataframe tbody tr th {\n",
       "        vertical-align: top;\n",
       "    }\n",
       "\n",
       "    .dataframe thead th {\n",
       "        text-align: right;\n",
       "    }\n",
       "</style>\n",
       "<table border=\"1\" class=\"dataframe\">\n",
       "  <thead>\n",
       "    <tr style=\"text-align: right;\">\n",
       "      <th></th>\n",
       "      <th>Sex</th>\n",
       "      <th>miles driven</th>\n",
       "      <th>Age</th>\n",
       "      <th>Citations</th>\n",
       "    </tr>\n",
       "  </thead>\n",
       "  <tbody>\n",
       "    <tr>\n",
       "      <th>0</th>\n",
       "      <td>F</td>\n",
       "      <td>4200.826390</td>\n",
       "      <td>18</td>\n",
       "      <td>0</td>\n",
       "    </tr>\n",
       "    <tr>\n",
       "      <th>1</th>\n",
       "      <td>F</td>\n",
       "      <td>5468.727014</td>\n",
       "      <td>17</td>\n",
       "      <td>0</td>\n",
       "    </tr>\n",
       "    <tr>\n",
       "      <th>2</th>\n",
       "      <td>F</td>\n",
       "      <td>5282.253745</td>\n",
       "      <td>18</td>\n",
       "      <td>0</td>\n",
       "    </tr>\n",
       "    <tr>\n",
       "      <th>3</th>\n",
       "      <td>F</td>\n",
       "      <td>5060.526521</td>\n",
       "      <td>17</td>\n",
       "      <td>0</td>\n",
       "    </tr>\n",
       "    <tr>\n",
       "      <th>4</th>\n",
       "      <td>F</td>\n",
       "      <td>5101.878224</td>\n",
       "      <td>16</td>\n",
       "      <td>2</td>\n",
       "    </tr>\n",
       "  </tbody>\n",
       "</table>\n",
       "</div>"
      ],
      "text/plain": [
       "  Sex  miles driven  Age  Citations\n",
       "0   F   4200.826390   18          0\n",
       "1   F   5468.727014   17          0\n",
       "2   F   5282.253745   18          0\n",
       "3   F   5060.526521   17          0\n",
       "4   F   5101.878224   16          2"
      ]
     },
     "execution_count": 3,
     "metadata": {},
     "output_type": "execute_result"
    }
   ],
   "source": [
    "# Take a look at the data here:\n",
    "dfInsurance.head()"
   ]
  },
  {
   "cell_type": "code",
   "execution_count": 4,
   "metadata": {},
   "outputs": [
    {
     "data": {
      "text/plain": [
       "Sex              object\n",
       "miles driven    float64\n",
       "Age               int64\n",
       "Citations         int64\n",
       "dtype: object"
      ]
     },
     "execution_count": 4,
     "metadata": {},
     "output_type": "execute_result"
    }
   ],
   "source": [
    "dfInsurance.dtypes"
   ]
  },
  {
   "cell_type": "markdown",
   "metadata": {},
   "source": [
    "### Data Description:\n",
    "\n",
    "This data contains records from a number of teenage drivers. The drivers were observed for 12 months and the number of miles they drove and the number of citations they received were recorded. Citations were for wreckless driving, disobeying traffic laws, speeding, and/or accidents.\n",
    "\n",
    "$\\color{red}{\\text{Sex}}$ - This is the sex of the driver.\n",
    "\n",
    "$\\color{red}{\\text{miles driven}}$ - This is the number of miles driven during the observation period.\n",
    "\n",
    "$\\color{red}{\\text{Age}}$ - This is the age of the driver at the beginning of the observation period.\n",
    "\n",
    "$\\color{red}{\\text{Citations}}$ - This is the number of citations received by the driver.\n"
   ]
  },
  {
   "cell_type": "markdown",
   "metadata": {},
   "source": [
    "### Part C\n",
    "***(2 points)*** Which sex has more overall citations?"
   ]
  },
  {
   "cell_type": "code",
   "execution_count": 5,
   "metadata": {},
   "outputs": [
    {
     "name": "stdout",
     "output_type": "stream",
     "text": [
      "Males have more citations than females.\n"
     ]
    }
   ],
   "source": [
    "# Code here to print your answer:\n",
    "M = dfInsurance.loc[(dfInsurance['Sex']=='M')& (dfInsurance['Citations']>0),'Citations'].sum()\n",
    "F = dfInsurance.loc[(dfInsurance['Sex']=='F')& (dfInsurance['Citations']>0),'Citations'].sum()\n",
    "if(M==F):\n",
    "    print(\"Both sexes have the same amount of citations.\")\n",
    "elif(M>F):\n",
    "    print(\"Males have more citations than females.\")\n",
    "else:\n",
    "    print(\"Females have more citations than males.\")"
   ]
  },
  {
   "cell_type": "markdown",
   "metadata": {},
   "source": [
    "### Part D\n",
    "***(2 points)*** Find the mean number of citations received by males and the mean number of citations received by females. Who received more citations in the year?\n"
   ]
  },
  {
   "cell_type": "code",
   "execution_count": 6,
   "metadata": {},
   "outputs": [
    {
     "name": "stdout",
     "output_type": "stream",
     "text": [
      "Males have more average citations than females.\n"
     ]
    }
   ],
   "source": [
    "#Code your answer here:\n",
    "MMean = dfInsurance.loc[(dfInsurance['Sex']=='M'), 'Citations'].mean()\n",
    "FMean = dfInsurance.loc[(dfInsurance['Sex']=='F'), 'Citations'].mean()\n",
    "if(MMean==FMean):\n",
    "    print(\"Both sexes have the same average amount of citations.\")\n",
    "elif(MMean>FMean):\n",
    "    print(\"Males have more average citations than females.\")\n",
    "else:\n",
    "    print(\"Females have more average citations than males.\")"
   ]
  },
  {
   "cell_type": "markdown",
   "metadata": {},
   "source": [
    "### Part E\n",
    "***(3 points)*** Estimate the difference in population means (for citations received) by creating a 95% CI for the difference between the sample means for number of citations received by males and females.\n",
    "\n",
    "Recall the equation below from lecture. Perform the proper calculations 'by hand' (i.e. code without a canned function).\n",
    "\n",
    "$\\bar{X}-\\bar{Y}\\pm Z_{\\frac{\\alpha}{2}}\\cdot\\sqrt{\\frac{\\sigma_1^2}{m}+\\frac{\\sigma_2^2}{n}}$"
   ]
  },
  {
   "cell_type": "code",
   "execution_count": 7,
   "metadata": {},
   "outputs": [
    {
     "name": "stdout",
     "output_type": "stream",
     "text": [
      "[ 0.00283447638728844 , 0.13916552361271156 ]\n"
     ]
    }
   ],
   "source": [
    "# Code your answer here:\n",
    "Xbar = MMean\n",
    "Ybar = FMean\n",
    "m = 1000\n",
    "n = 1000\n",
    "Zatwo = stats.norm.ppf((1-.05/2))\n",
    "Xvar = sum((Xi - Xbar)**2/(m-1) for Xi in dfInsurance.loc[(dfInsurance['Sex']=='M'), 'Citations'])\n",
    "Yvar = sum((Yi - Ybar)**2/(n-1) for Yi in dfInsurance.loc[(dfInsurance['Sex'] == 'F'), 'Citations'])\n",
    "std = np.sqrt((Xvar/m)+(Yvar/n))\n",
    "low = Xbar - Ybar - (Zatwo*std)\n",
    "high = Xbar - Ybar + (Zatwo*std)\n",
    "print('[', low, ',', high,']')"
   ]
  },
  {
   "cell_type": "markdown",
   "metadata": {},
   "source": [
    "### Part F\n",
    "***(1 point)*** Is 0 inside the confidence interval? Describe the meaning of your results.\n"
   ]
  },
  {
   "cell_type": "markdown",
   "metadata": {},
   "source": [
    "Solution here:\n",
    "0 is not inside of the confidence interval. This means that we are able to eliminate 0 as the difference between the difference in population which means we know that there is a greater amount of mean citations for men 95% of the time."
   ]
  },
  {
   "cell_type": "markdown",
   "metadata": {},
   "source": [
    "### Part G\n",
    "***(4 points)*** Compare the number of miles driven per year by each sex. Start by getting a visual representation of the number of miles driven by each sex. Graph both male and female 'miles driven' distributions in the same frame for comparison.\n"
   ]
  },
  {
   "cell_type": "code",
   "execution_count": 19,
   "metadata": {},
   "outputs": [
    {
     "data": {
      "text/plain": [
       "Text(0.5, 1.0, '')"
      ]
     },
     "execution_count": 19,
     "metadata": {},
     "output_type": "execute_result"
    },
    {
     "data": {
      "image/png": "[encoded data removed]",
      "text/plain": [
       "<Figure size 576x288 with 1 Axes>"
      ]
     },
     "metadata": {
      "needs_background": "light"
     },
     "output_type": "display_data"
    }
   ],
   "source": [
    "# Code your answer here:\n",
    "fig, ax = plt.subplots(figsize=(8,4))\n",
    "\n",
    "# Plot histogram \n",
    "\n",
    "\n",
    "# Add axis labels \n",
    "ax.set_xlabel(\"Miles Driven Per Year\", fontsize=16)\n",
    "ax.set_ylabel(\"Number of people driving that many miles anually.\", fontsize=16)\n",
    "dfMaleDrive = dfInsurance.loc[(dfInsurance['Sex']=='M'), 'miles driven']\n",
    "dfFemaleDrive = dfInsurance.loc[(dfInsurance['Sex']=='F'), 'miles driven']\n",
    "plt.hist([dfMaleDrive, dfFemaleDrive], 20, label= [\"Male Miles Driven\", \"Female Miles Driven\"])\n",
    "plt.legend(loc='upper right')\n",
    "ax.set_title(\"\", fontsize=20)"
   ]
  },
  {
   "cell_type": "markdown",
   "metadata": {},
   "source": [
    "### Part H\n",
    "***(1 point)*** Based on the distributions, who appears to drive more miles in a year? Is there any overlap of histograms? Describe what you have found."
   ]
  },
  {
   "cell_type": "markdown",
   "metadata": {},
   "source": [
    "Solution: \n",
    "Males appear to drive more miles in a year at least according to this sample. There is some overlap in the histogram since the minimum amount of miles driven by males is less than the maximum amount of miles driven by females, although this overlap is not large."
   ]
  },
  {
   "cell_type": "markdown",
   "metadata": {},
   "source": [
    "### Part I\n",
    "***(2 points)*** What is the difference in mean miles driven by the two groups (male and female)?"
   ]
  },
  {
   "cell_type": "code",
   "execution_count": 9,
   "metadata": {},
   "outputs": [
    {
     "name": "stdout",
     "output_type": "stream",
     "text": [
      "3291.517\n"
     ]
    }
   ],
   "source": [
    "# Code solution here:\n",
    "print(round(dfMaleDrive.mean()-dfFemaleDrive.mean(),3))"
   ]
  },
  {
   "cell_type": "markdown",
   "metadata": {},
   "source": [
    "### Part J\n",
    "***(3 points)*** Estimate the difference in population means (for miles driven) by creating a 95% CI for the difference between the sample means for 'miles driven' by males and females.\n",
    "\n",
    "Recall the equation below from lecture. Perform the proper calculations 'by hand' (i.e. code without a canned function).\n",
    "\n",
    "$\\bar{X}-\\bar{Y}\\pm Z_{\\frac{\\alpha}{2}}\\cdot\\sqrt{\\frac{\\sigma_1^2}{m}+\\frac{\\sigma_2^2}{n}}$\n",
    "\n",
    "Create a 95% CI for the difference in miles driven per year."
   ]
  },
  {
   "cell_type": "code",
   "execution_count": 10,
   "metadata": {},
   "outputs": [
    {
     "name": "stdout",
     "output_type": "stream",
     "text": [
      "[ 3243.6094092292306 , 3339.4244027947434 ]\n"
     ]
    }
   ],
   "source": [
    "# Code solution here:\n",
    "Xbar = dfMaleDrive.mean()\n",
    "Ybar = dfFemaleDrive.mean()\n",
    "m = dfMaleDrive.count()\n",
    "n = dfFemaleDrive.count() #<- Got Z a/2 from lecture slides. \n",
    "Xvar = sum((Xi - Xbar)**2/(m-1) for Xi in dfMaleDrive)\n",
    "Yvar = sum((Yi - Ybar)**2/(n-1) for Yi in dfFemaleDrive)\n",
    "std = np.sqrt((Xvar/m)+(Yvar/n))\n",
    "low = Xbar - Ybar - (Zatwo*std)\n",
    "high = Xbar - Ybar + (Zatwo*std)\n",
    "print('[', low, ',', high,']')"
   ]
  },
  {
   "cell_type": "markdown",
   "metadata": {},
   "source": [
    "### Part K\n",
    "***(1 points)*** Is 0 in the interval? Describe your findings."
   ]
  },
  {
   "cell_type": "markdown",
   "metadata": {},
   "source": [
    "Solution:\n",
    "0 is not in the interval because of this we know that there is a definite difference between the mean miles driven between males and females where males have a higher mean."
   ]
  },
  {
   "cell_type": "markdown",
   "metadata": {},
   "source": [
    "### Part L\n",
    "***(4 points)*** Create a column called 'CPM'(this acronym stands for citations per 1000 miles), and put in it the number of citations divided by the number of miles driven (multiplied by 1000). The multiplication by 1000 ensures we are looking at citations per 1000 miles. This is done because the numbers are so small.\n",
    "\n",
    "After you create the 'CPM' column look at the tail of the dataframe."
   ]
  },
  {
   "cell_type": "code",
   "execution_count": 11,
   "metadata": {},
   "outputs": [
    {
     "data": {
      "text/html": [
       "<div>\n",
       "<style scoped>\n",
       "    .dataframe tbody tr th:only-of-type {\n",
       "        vertical-align: middle;\n",
       "    }\n",
       "\n",
       "    .dataframe tbody tr th {\n",
       "        vertical-align: top;\n",
       "    }\n",
       "\n",
       "    .dataframe thead th {\n",
       "        text-align: right;\n",
       "    }\n",
       "</style>\n",
       "<table border=\"1\" class=\"dataframe\">\n",
       "  <thead>\n",
       "    <tr style=\"text-align: right;\">\n",
       "      <th></th>\n",
       "      <th>Sex</th>\n",
       "      <th>miles driven</th>\n",
       "      <th>Age</th>\n",
       "      <th>Citations</th>\n",
       "      <th>CPM</th>\n",
       "    </tr>\n",
       "  </thead>\n",
       "  <tbody>\n",
       "    <tr>\n",
       "      <th>1995</th>\n",
       "      <td>M</td>\n",
       "      <td>8433.768080</td>\n",
       "      <td>17</td>\n",
       "      <td>1</td>\n",
       "      <td>0.118571</td>\n",
       "    </tr>\n",
       "    <tr>\n",
       "      <th>1996</th>\n",
       "      <td>M</td>\n",
       "      <td>8047.929523</td>\n",
       "      <td>18</td>\n",
       "      <td>1</td>\n",
       "      <td>0.124256</td>\n",
       "    </tr>\n",
       "    <tr>\n",
       "      <th>1997</th>\n",
       "      <td>M</td>\n",
       "      <td>7285.647012</td>\n",
       "      <td>18</td>\n",
       "      <td>1</td>\n",
       "      <td>0.137256</td>\n",
       "    </tr>\n",
       "    <tr>\n",
       "      <th>1998</th>\n",
       "      <td>M</td>\n",
       "      <td>8579.702457</td>\n",
       "      <td>18</td>\n",
       "      <td>0</td>\n",
       "      <td>0.000000</td>\n",
       "    </tr>\n",
       "    <tr>\n",
       "      <th>1999</th>\n",
       "      <td>M</td>\n",
       "      <td>7868.067827</td>\n",
       "      <td>16</td>\n",
       "      <td>0</td>\n",
       "      <td>0.000000</td>\n",
       "    </tr>\n",
       "  </tbody>\n",
       "</table>\n",
       "</div>"
      ],
      "text/plain": [
       "     Sex  miles driven  Age  Citations       CPM\n",
       "1995   M   8433.768080   17          1  0.118571\n",
       "1996   M   8047.929523   18          1  0.124256\n",
       "1997   M   7285.647012   18          1  0.137256\n",
       "1998   M   8579.702457   18          0  0.000000\n",
       "1999   M   7868.067827   16          0  0.000000"
      ]
     },
     "execution_count": 11,
     "metadata": {},
     "output_type": "execute_result"
    }
   ],
   "source": [
    "# Code your solution here:\n",
    "dfInsurance['CPM']=(dfInsurance.loc[:, 'Citations']/dfInsurance.loc[:, 'miles driven'])*1000\n",
    "\n",
    "dfInsurance.tail()"
   ]
  },
  {
   "cell_type": "markdown",
   "metadata": {},
   "source": [
    "### Part M\n",
    "***(2 points)*** Look at the difference in means for male CPM and female CPM. Which sex receive more citations per 1000 miles?"
   ]
  },
  {
   "cell_type": "code",
   "execution_count": 20,
   "metadata": {},
   "outputs": [
    {
     "name": "stdout",
     "output_type": "stream",
     "text": [
      "Females recieve more citations per 1000 miles.\n"
     ]
    }
   ],
   "source": [
    "# Code solution here:\n",
    "dfMaleCPM = dfInsurance.loc[(dfInsurance['Sex']=='M'), 'CPM']\n",
    "dfFemaleCPM = dfInsurance.loc[(dfInsurance['Sex']=='F'), 'CPM']\n",
    "dif = dfMaleCPM.mean()-dfFemaleCPM.mean()\n",
    "if (dif>0):\n",
    "    print(\"Males recieve more citations per 1000 miles.\")\n",
    "elif (dif<0):\n",
    "    print(\"Females recieve more citations per 1000 miles.\")\n",
    "else:\n",
    "    print(\"Males and females receive the same amount of citations per 1000 miles.\")"
   ]
  },
  {
   "cell_type": "markdown",
   "metadata": {},
   "source": [
    "### Part N\n",
    "***(1 point)*** You should have discovered that females get more citations per mile than do males. How does this go together with the fact that males get more citations in a year?"
   ]
  },
  {
   "cell_type": "markdown",
   "metadata": {},
   "source": [
    "Solution:\n",
    "Males get more citations annually despite getting less citations per 1000 miles because males are driving so much more as determined in part G. Because males are driving so much more than females they get more citations overal despite getting them at a lesser rate."
   ]
  },
  {
   "cell_type": "markdown",
   "metadata": {},
   "source": [
    "### Part O\n",
    "***(3 points)*** Estimate the difference in population means (for CPM's) by creating a 95% CI for the difference between the sample means for 'CPM' for males and females.\n",
    "\n",
    "Recall the equation below from lecture. Perform the proper calculations 'by hand' (i.e. code without a canned function).\n",
    "\n",
    "$\\bar{X}-\\bar{Y}\\pm Z_{\\frac{\\alpha}{2}}\\cdot\\sqrt{\\frac{\\sigma_1^2}{m}+\\frac{\\sigma_2^2}{n}}$\n",
    "\n",
    "Create a 95% CI for the difference in miles driven per year.\n"
   ]
  },
  {
   "cell_type": "code",
   "execution_count": 13,
   "metadata": {},
   "outputs": [
    {
     "name": "stdout",
     "output_type": "stream",
     "text": [
      "[ -0.03248914054212028 , -0.010832224801218458 ]\n"
     ]
    }
   ],
   "source": [
    "# Code solution here:\n",
    "Xbar = dfMaleCPM.mean()\n",
    "Ybar = dfFemaleCPM.mean()\n",
    "m = dfMaleCPM.count()\n",
    "n = dfFemaleCPM.count() \n",
    "Xvar = sum((Xi - Xbar)**2/(m-1) for Xi in dfMaleCPM)\n",
    "Yvar = sum((Yi - Ybar)**2/(n-1) for Yi in dfFemaleCPM)\n",
    "std = np.sqrt((Xvar/m)+(Yvar/n))\n",
    "low = Xbar - Ybar - (Zatwo*std)\n",
    "high = Xbar - Ybar + (Zatwo*std)\n",
    "print('[', low, ',', high,']')"
   ]
  },
  {
   "cell_type": "markdown",
   "metadata": {},
   "source": [
    "### Part P\n",
    "***(1 point)*** Does your result contain 0? Describe your findings."
   ]
  },
  {
   "cell_type": "markdown",
   "metadata": {},
   "source": [
    "Solution:\n",
    "My result does not contain 0. Because of this we can determine which population mean is actaully higher with a 95% confidence interval and that would be the female population which 95% of the time has a higher sample mean."
   ]
  },
  {
   "cell_type": "markdown",
   "metadata": {},
   "source": [
    "### Part Q\n",
    "***(1 point)*** Can you explain why males pay higher insurance premiums when they receive fewer citations per mile? Hint: is insurance typically sold by the mile or by the year?"
   ]
  },
  {
   "cell_type": "markdown",
   "metadata": {},
   "source": [
    "Solution:\n",
    "Males pay higher insurance premiums despite getting fewer citations per mile because insurance is sold by year or half year. This combined with the higher amount of miles/time that males are driving compared to females overall means that a company can justify charging them more based on the fact that they are more likely to get citations overall during the pay period."
   ]
  },
  {
   "cell_type": "markdown",
   "metadata": {},
   "source": [
    "### Part R\n",
    "***(2 points)*** Consider the graphic below. It is merely a cut-and-past .png, it isn't live code.\n",
    "\n",
    "Look at the code and the graphic and describe what story it tells."
   ]
  },
  {
   "cell_type": "markdown",
   "metadata": {},
   "source": [
    "![title](code.png)\n",
    "![title](graph.png)"
   ]
  },
  {
   "cell_type": "code",
   "execution_count": 14,
   "metadata": {},
   "outputs": [],
   "source": [
    "# The graphic above was created with this code.\n",
    "# Of course this code will likely not work in your notebook since\n",
    "# you have different variable names. This is why it is commented out.\n",
    "\n",
    "#mCPM = dfInsurance.loc[dfInsurance['Sex']=='M', 'CPM'].values\n",
    "#fCPM = dfInsurance.loc[dfInsurance['Sex']=='F', 'CPM'].values\n",
    "\n",
    "#bins = np.linspace(0.001, 0.6, 8)\n",
    "#plt.hist([mCPM, fCPM], bins, label=['male', 'female'])\n",
    "#plt.legend(loc='upper right')\n",
    "#plt.show()"
   ]
  },
  {
   "cell_type": "markdown",
   "metadata": {},
   "source": [
    "Solution:\n",
    "The main point of this graph is that females are given way more citations than males. Females continue to get higher and higher CPMs by the time that males are no longer getting fined. Females also have a higher mode and mean CPM than males despite driving less miles than they do."
   ]
  },
  {
   "cell_type": "markdown",
   "metadata": {},
   "source": [
    "### Part S\n",
    "***(5 points)*** What percent of males drive between 6400 and 8400 miles per year?\n",
    "What percent of females drive that same amount?\n"
   ]
  },
  {
   "cell_type": "code",
   "execution_count": 15,
   "metadata": {},
   "outputs": [
    {
     "name": "stdout",
     "output_type": "stream",
     "text": [
      "6.42 percent of males drive between 6400 and 8400 miles per year.\n",
      "5.66 percent of females drive between 6400 and 8400 miles per year.\n"
     ]
    }
   ],
   "source": [
    "# Code your solution here:\n",
    "Xvar = sum((Xi - Xbar)**2/(m-1) for Xi in dfMaleDrive)\n",
    "Yvar = sum((Yi - Ybar)**2/(n-1) for Yi in dfFemaleDrive)\n",
    "stdX = np.sqrt(Xvar)\n",
    "stdY = np.sqrt(Yvar)\n",
    "Z6400X= (6400 - Xbar)/stdX\n",
    "Z8400X = (8400- Xbar)/stdX\n",
    "solX = stats.norm.cdf(Z8400X)-stats.norm.cdf(Z6400X)\n",
    "Z6400Y = (6400- Ybar)/stdY\n",
    "Z8400Y = (8400- Ybar)/stdY\n",
    "solY = stats.norm.cdf(Z8400Y)-stats.norm.cdf(Z6400Y)\n",
    "print(round(solX* 100,2), \"percent of males drive between 6400 and 8400 miles per year.\")\n",
    "print(round(solY*100,2), \"percent of females drive between 6400 and 8400 miles per year.\") "
   ]
  },
  {
   "cell_type": "markdown",
   "metadata": {},
   "source": [
    "### Part T\n",
    "***(4 points)*** 95% of females drive less than x miles. What is x?"
   ]
  },
  {
   "cell_type": "code",
   "execution_count": 16,
   "metadata": {},
   "outputs": [
    {
     "name": "stdout",
     "output_type": "stream",
     "text": [
      "8627.20500945822\n"
     ]
    }
   ],
   "source": [
    "# Code your solution here:\n",
    "x = (stdY * stats.norm.ppf((1-.05))) + Ybar\n",
    "print(x)"
   ]
  },
  {
   "cell_type": "markdown",
   "metadata": {},
   "source": [
    "# Problem 2\n",
    "***\n",
    "\n",
    "Let $X$ be a normal random variable, $X \\sim N(\\mu, \\sigma^2) = N(5,9)$.\n",
    "\n",
    "Let $Z$ be a $\\color{red}{\\text{standard}}$ normal random variable, $Z \\sim N(\\mu, \\sigma^2) = N(0,1)$.\n"
   ]
  },
  {
   "cell_type": "markdown",
   "metadata": {},
   "source": [
    "### Part A\n",
    "\n",
    "***(2 points)*** Compute $P(X \\leq 8.75)$."
   ]
  },
  {
   "cell_type": "code",
   "execution_count": 17,
   "metadata": {},
   "outputs": [
    {
     "name": "stdout",
     "output_type": "stream",
     "text": [
      "0.8943502263331446 or 89.44 percent.\n"
     ]
    }
   ],
   "source": [
    "# Code your solution here:\n",
    "sigX = 3\n",
    "muX = 5\n",
    "X=8.75\n",
    "PX = stats.norm.cdf((8.75-5)/3)\n",
    "print(PX, \"or\", round(PX*100,2), \"percent.\")"
   ]
  },
  {
   "cell_type": "markdown",
   "metadata": {},
   "source": [
    "### Part B\n",
    "\n",
    "***(2 points)*** Compute $P(Z\\leq 1.25)$."
   ]
  },
  {
   "cell_type": "code",
   "execution_count": 18,
   "metadata": {},
   "outputs": [
    {
     "name": "stdout",
     "output_type": "stream",
     "text": [
      "0.8943502263331446 or 89.44 percent.\n"
     ]
    }
   ],
   "source": [
    "# Code your solution here:\n",
    "print(stats.norm.cdf(1.25), \"or\", round(100*stats.norm.cdf(1.25),2), \"percent.\")"
   ]
  },
  {
   "cell_type": "markdown",
   "metadata": {},
   "source": [
    "### Part C\n",
    "\n",
    "***(2 points)*** Explain why the answer to these first two questions are the same."
   ]
  },
  {
   "cell_type": "markdown",
   "metadata": {},
   "source": [
    "Solution:\n",
    "The answers to part A and B are the same because the normalized version of 8.75 given $\\mu$ is 5 and $\\sigma$ is 3 is 1.25 and the problem is then asking the probability of being less than or equal to the same normalized value for each part."
   ]
  }
 ],
 "metadata": {
  "kernelspec": {
   "display_name": "Python 3 (ipykernel)",
   "language": "python",
   "name": "python3"
  },
  "language_info": {
   "codemirror_mode": {
    "name": "ipython",
    "version": 3
   },
   "file_extension": ".py",
   "mimetype": "text/x-python",
   "name": "python",
   "nbconvert_exporter": "python",
   "pygments_lexer": "ipython3",
   "version": "3.10.5"
  }
 },
 "nbformat": 4,
 "nbformat_minor": 4
}
