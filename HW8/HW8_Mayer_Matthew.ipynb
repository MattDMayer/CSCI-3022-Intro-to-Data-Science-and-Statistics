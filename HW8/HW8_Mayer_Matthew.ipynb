{
 "cells": [
  {
   "cell_type": "markdown",
   "metadata": {},
   "source": [
    "# Homework 08: Hypothesis Testing, P-values, Bootstrapping\n",
    "***\n",
    "\n",
    "**Name**: Matthew Mayer\n",
    "\n",
    "***\n",
    "\n",
    "This assignment is due on Canvas by **6:00PM on Friday November 4**. Your solutions to theoretical questions should be done in Markdown directly below the associated question.  Your solutions to computational questions should include any specified Python code and results as well as written commentary on your conclusions.  Remember that you are encouraged to discuss the problems with your classmates, but **you must write all code and solutions on your own**.\n",
    "\n",
    "**NOTES**: \n",
    "\n",
    "- Any relevant data sets should be available in the Homework 01 assignment write-up on Canvas. To make life easier on the grader if they need to run your code, do not change the relative path names here. Instead, move the files around on your computer.\n",
    "- If you're not familiar with typesetting math directly into Markdown then by all means, do your work on paper first and then typeset it later.  Remember that there is a [reference guide](https://math.meta.stackexchange.com/questions/5020/mathjax-basic-tutorial-and-quick-reference) linked on Canvas on writing math in Markdown. **All** of your written commentary, justifications and mathematical work should be in Markdown.\n",
    "- Because you can technically evaluate notebook cells is a non-linear order, it's a good idea to do $\\color{red}{\\text{Kernel}}$ $\\color{red}\\rightarrow$ $\\color{red}{\\text{Restart & Run All}}$ as a check before submitting your solutions.  That way if we need to run your code you will know that it will work as expected. \n",
    "- It is **bad form** to make your reader interpret numerical output from your code.  If a question asks you to compute some value from the data you should show your code output **AND** $\\color{red}{\\text{write a summary of the results}}$ in Markdown directly below your code. \n",
    "- This probably goes without saying, but... For any question that asks you to calculate something, you **must show all work and justify your answers to receive credit**. Sparse or nonexistent work will receive sparse or nonexistent credit. \n",
    "\n",
    "---"
   ]
  },
  {
   "cell_type": "markdown",
   "metadata": {},
   "source": [
    "The standard imports for this HW:"
   ]
  },
  {
   "cell_type": "code",
   "execution_count": 1,
   "metadata": {},
   "outputs": [],
   "source": [
    "# Per the standard import pandas as 'pd' and numpy as 'np'\n",
    "import pandas as pd\n",
    "import numpy as np\n",
    "import matplotlib.pylab as plt\n",
    "%matplotlib inline \n",
    "import scipy.stats as stats\n",
    "from scipy.stats import norm"
   ]
  },
  {
   "cell_type": "markdown",
   "metadata": {},
   "source": [
    "# Problem 1\n",
    "\n",
    "In this HW you will need to use `.std()` when you are finding the test statistic. However, there are two kinds of standard deviations: those for a $\\color{red}{\\text{sample}}$ and those for a $\\color{blue}{\\text{population}}$.\n",
    "\n",
    "Consider the python list below:"
   ]
  },
  {
   "cell_type": "code",
   "execution_count": 2,
   "metadata": {},
   "outputs": [],
   "source": [
    "py_list = [4,2,3,4,2,3]"
   ]
  },
  {
   "cell_type": "markdown",
   "metadata": {},
   "source": [
    "***(3 points)*** Find both the sample standard deviation and the popluation standard deviation by hand.\n",
    "\n",
    "TeX your work below:\n"
   ]
  },
  {
   "cell_type": "markdown",
   "metadata": {},
   "source": [
    "\n",
    "Population Standard Deviation:\n",
    "\n",
    "First we find the mean of the list: $((4+2+3+4+2+3)/6)= 3$\n",
    "\n",
    "Then we sum up the difference between each value and the mean: $1+1+0+1+1+0=4$\n",
    "\n",
    "We finally can take the square root of this value over the number of values to get the population standard deviation: $\\sqrt{4/6} \\approx 0.8165$ \n",
    "\n",
    "\n",
    "Sample Standard Deviation:\n",
    "\n",
    "First we find the mean of the list: $((4+2+3+4+2+3)/6)= 3$\n",
    "\n",
    "Then we sum up the difference between each value and the mean: $1+1+0+1+1+0=4$\n",
    "\n",
    "We finally can take the square root of this value over the number -1 of values to get the sample standard deviation: $\\sqrt{4/5} \\approx 0.89443$\n"
   ]
  },
  {
   "cell_type": "markdown",
   "metadata": {},
   "source": [
    "***(2 points)*** Make an array from `py_list` and call it `np_array`."
   ]
  },
  {
   "cell_type": "code",
   "execution_count": 3,
   "metadata": {},
   "outputs": [],
   "source": [
    "# Code your answer here:\n",
    "np_array = np.array(py_list)"
   ]
  },
  {
   "cell_type": "markdown",
   "metadata": {},
   "source": [
    "***(2 points)*** Make a Pandas Series from the list and call it `dfSeries`."
   ]
  },
  {
   "cell_type": "code",
   "execution_count": 4,
   "metadata": {},
   "outputs": [],
   "source": [
    "# Code your answer here:\n",
    "dfSeries = pd.Series(np_array)"
   ]
  },
  {
   "cell_type": "markdown",
   "metadata": {},
   "source": [
    "***(2 points)*** Find `np_array.std()` and `dfSeries.std()`.\n",
    "\n",
    "What type of standard deviation does `np_array.std()` return?\n",
    "\n",
    "What type of standard deviation does `dfSeries.std()` return?"
   ]
  },
  {
   "cell_type": "code",
   "execution_count": 5,
   "metadata": {},
   "outputs": [
    {
     "name": "stdout",
     "output_type": "stream",
     "text": [
      "0.816496580927726 0.8944271909999159\n",
      "np_array prints a population standard deviation while dfSeries prints a sample standard deviation.\n"
     ]
    }
   ],
   "source": [
    "# Code your solution here:\n",
    "print(np_array.std(),dfSeries.std())\n",
    "print(\"np_array prints a population standard deviation while dfSeries prints a sample standard deviation.\")"
   ]
  },
  {
   "cell_type": "markdown",
   "metadata": {},
   "source": [
    "***(2 points)*** Now find `np_array.std(ddof=0)` and `dfSeries.std(ddof=0)`, and `np_array.std(ddof=1)` and `dfSeries.std(ddof=1)`.\n",
    "\n",
    "What do these return?"
   ]
  },
  {
   "cell_type": "code",
   "execution_count": 6,
   "metadata": {},
   "outputs": [
    {
     "name": "stdout",
     "output_type": "stream",
     "text": [
      "0.816496580927726 this is a population standard deviation.\n",
      "0.816496580927726 this is a population standard deviation.\n",
      "0.8944271909999159 this is a sample standard deviation.\n",
      "0.8944271909999159 this is a sample standard deviation.\n"
     ]
    }
   ],
   "source": [
    "# Code your answer here:\n",
    "print(np_array.std(ddof=0), \"this is a population standard deviation.\")\n",
    "print(dfSeries.std(ddof=0), \"this is a population standard deviation.\")\n",
    "print(np_array.std(ddof=1), \"this is a sample standard deviation.\")\n",
    "print(dfSeries.std(ddof=1), \"this is a sample standard deviation.\")"
   ]
  },
  {
   "cell_type": "markdown",
   "metadata": {},
   "source": [
    "# Problem 2\n",
    "\n",
    "A nematologist is interested in determining whether a new worm food (wood bark treated with peanut butter) results in shorter worm length than the standard length of 15.7 cm.\n",
    "\n",
    "Shorter worms are more desirable as they tend to be stronger and live longer.\n",
    "\n",
    "The nematologist feeds a random sample of worms with the new food and subsequently obtained the worm lengths found in the `csv` file `worm.csv`.\n",
    "\n",
    "If the nematologist has in fact discovered a healthy new worm food then this food formula can be patented and sold world wide!\n",
    "\n",
    "Therefore, the nematologist has hired you to explain whether or not this new food outperforms (with respect to worm length) the old worm food."
   ]
  },
  {
   "cell_type": "markdown",
   "metadata": {},
   "source": [
    "***(read-in)*** Read in the csv file here:"
   ]
  },
  {
   "cell_type": "code",
   "execution_count": 7,
   "metadata": {},
   "outputs": [],
   "source": [
    "# read in worm.csv\n",
    "dfWorms = pd.read_csv('worm.csv')"
   ]
  },
  {
   "cell_type": "markdown",
   "metadata": {},
   "source": [
    "***(1 point)*** Take a look at the first 5 rows of data."
   ]
  },
  {
   "cell_type": "code",
   "execution_count": 8,
   "metadata": {},
   "outputs": [
    {
     "data": {
      "text/html": [
       "<div>\n",
       "<style scoped>\n",
       "    .dataframe tbody tr th:only-of-type {\n",
       "        vertical-align: middle;\n",
       "    }\n",
       "\n",
       "    .dataframe tbody tr th {\n",
       "        vertical-align: top;\n",
       "    }\n",
       "\n",
       "    .dataframe thead th {\n",
       "        text-align: right;\n",
       "    }\n",
       "</style>\n",
       "<table border=\"1\" class=\"dataframe\">\n",
       "  <thead>\n",
       "    <tr style=\"text-align: right;\">\n",
       "      <th></th>\n",
       "      <th>length</th>\n",
       "    </tr>\n",
       "  </thead>\n",
       "  <tbody>\n",
       "    <tr>\n",
       "      <th>0</th>\n",
       "      <td>11.5</td>\n",
       "    </tr>\n",
       "    <tr>\n",
       "      <th>1</th>\n",
       "      <td>15.2</td>\n",
       "    </tr>\n",
       "    <tr>\n",
       "      <th>2</th>\n",
       "      <td>16.5</td>\n",
       "    </tr>\n",
       "    <tr>\n",
       "      <th>3</th>\n",
       "      <td>15.1</td>\n",
       "    </tr>\n",
       "    <tr>\n",
       "      <th>4</th>\n",
       "      <td>11.8</td>\n",
       "    </tr>\n",
       "  </tbody>\n",
       "</table>\n",
       "</div>"
      ],
      "text/plain": [
       "   length\n",
       "0    11.5\n",
       "1    15.2\n",
       "2    16.5\n",
       "3    15.1\n",
       "4    11.8"
      ]
     },
     "execution_count": 8,
     "metadata": {},
     "output_type": "execute_result"
    }
   ],
   "source": [
    "# code here for looking at data:\n",
    "dfWorms.head()"
   ]
  },
  {
   "cell_type": "markdown",
   "metadata": {},
   "source": [
    "In order to determine whether or not this new worm food outperforms the standard food, you and the nematologist decide on a hypthesis test run at the 5% significance level.\n",
    "\n",
    "***(2 points)*** What does a 5% significance level mean?\n"
   ]
  },
  {
   "cell_type": "markdown",
   "metadata": {},
   "source": [
    "Solution:\n",
    "This would mean it's a one tail hypothesis test with 5% on the tail that determines if we abandon our null hypothesis."
   ]
  },
  {
   "cell_type": "markdown",
   "metadata": {},
   "source": [
    "***(2 points)*** What is the null hypothesis and alternate hypothesis for this test?"
   ]
  },
  {
   "cell_type": "markdown",
   "metadata": {},
   "source": [
    "Solution:\n",
    "\n",
    "$N_0$: The new worm food does not outperform the current food and any major difference would be a result of statistical error.\n",
    "\n",
    "$N_A$: The new worm food outperforms the current worm food."
   ]
  },
  {
   "cell_type": "markdown",
   "metadata": {},
   "source": [
    "***(1 point)*** How many worms were in this sample?"
   ]
  },
  {
   "cell_type": "code",
   "execution_count": 9,
   "metadata": {},
   "outputs": [
    {
     "name": "stdout",
     "output_type": "stream",
     "text": [
      "There are 33 worms in the sample.\n"
     ]
    }
   ],
   "source": [
    "# code your answer here:\n",
    "\n",
    "print(\"There are\", dfWorms.count()[0], \"worms in the sample.\")"
   ]
  },
  {
   "cell_type": "markdown",
   "metadata": {},
   "source": [
    "***(1 point)*** What is the mean of the sample?"
   ]
  },
  {
   "cell_type": "code",
   "execution_count": 10,
   "metadata": {},
   "outputs": [
    {
     "name": "stdout",
     "output_type": "stream",
     "text": [
      "The mean of the sample is: 13.663636363636364\n"
     ]
    }
   ],
   "source": [
    "# Code your solution here:\n",
    "meanWorm = dfWorms.mean()[0]\n",
    "print(\"The mean of the sample is:\", meanWorm )"
   ]
  },
  {
   "cell_type": "markdown",
   "metadata": {},
   "source": [
    "***(1 point)*** What is the standard deviation of the sample?\n"
   ]
  },
  {
   "cell_type": "code",
   "execution_count": 11,
   "metadata": {},
   "outputs": [
    {
     "name": "stdout",
     "output_type": "stream",
     "text": [
      "The standard deviation of the sample is 2.5435971307650833\n"
     ]
    }
   ],
   "source": [
    "# Code your answer here:\n",
    "standardWorm = dfWorms.std(ddof=1)[0]\n",
    "print(\"The standard deviation of the sample is\", standardWorm)"
   ]
  },
  {
   "cell_type": "markdown",
   "metadata": {},
   "source": [
    "***(2 points)*** What is the critical value?"
   ]
  },
  {
   "cell_type": "code",
   "execution_count": 12,
   "metadata": {},
   "outputs": [
    {
     "name": "stdout",
     "output_type": "stream",
     "text": [
      "The critical values is -1.6448536269514722\n"
     ]
    }
   ],
   "source": [
    "# Code your answer here:\n",
    "z=-1*stats.norm.ppf(.95)\n",
    "print(\"The critical values is\", z)"
   ]
  },
  {
   "cell_type": "markdown",
   "metadata": {},
   "source": [
    "***(2 points)*** What is the test statistic?"
   ]
  },
  {
   "cell_type": "code",
   "execution_count": 13,
   "metadata": {},
   "outputs": [
    {
     "name": "stdout",
     "output_type": "stream",
     "text": [
      "The test statistic is equal to -4.599006005602886\n"
     ]
    }
   ],
   "source": [
    "# Code your answer here:\n",
    "testS = (meanWorm - 15.7)/(standardWorm/np.sqrt(33))\n",
    "print(\"The test statistic is equal to\", testS)"
   ]
  },
  {
   "cell_type": "markdown",
   "metadata": {},
   "source": [
    "***(3 points)*** What is the conclusion?\n"
   ]
  },
  {
   "cell_type": "markdown",
   "metadata": {},
   "source": [
    "Solution:\n",
    "This -4.6 value is way beyond our critical -1.64 value. Because of this we can discard our null hypothesis and at the 5% signifigance level can conclude that the sample of worms with the food were smaller than the other sample."
   ]
  },
  {
   "cell_type": "markdown",
   "metadata": {},
   "source": [
    "Instead of using a critical value to determine the above answer about the worm food, suppose you decide to base your decision on the p-value for this same data.\n",
    "\n",
    "***(2 points)*** In general, what is it that a p-value measures?"
   ]
  },
  {
   "cell_type": "markdown",
   "metadata": {},
   "source": [
    "Solution:\n",
    "A p-value is the probability, under the Null hypothesis, that we would get a test statistic at least as extreme as the one we calculated."
   ]
  },
  {
   "cell_type": "markdown",
   "metadata": {},
   "source": [
    "***(2 points)*** What is the p-value for this experiment?"
   ]
  },
  {
   "cell_type": "code",
   "execution_count": 14,
   "metadata": {},
   "outputs": [
    {
     "name": "stdout",
     "output_type": "stream",
     "text": [
      "The p-value is 2.1225577307875395e-06\n"
     ]
    }
   ],
   "source": [
    "# Code your answer here:\n",
    "p = stats.norm.cdf(testS)\n",
    "print(\"The p-value is\", p)"
   ]
  },
  {
   "cell_type": "markdown",
   "metadata": {},
   "source": [
    "***(2 points)*** According to the p-value, should we reject the null or fail to reject the null?"
   ]
  },
  {
   "cell_type": "markdown",
   "metadata": {},
   "source": [
    "Solution:\n",
    "\n",
    "According to the p-vale we must reject the null hypothesis since $p\\leq\\alpha$."
   ]
  },
  {
   "cell_type": "markdown",
   "metadata": {},
   "source": [
    "***(2 points)*** Will the decisions concerning rejecting the null ever be different with respect to using a critical number versus a p-value?"
   ]
  },
  {
   "cell_type": "markdown",
   "metadata": {},
   "source": [
    "Solution:\n",
    "No these two methods of hypothesis testing will never disagree. This is because of the relationship between critical numbers and p-values. p-values essentially look at the areas under the curve and compares those. Critical numbers essentially look at how far left on the curve you have to be. Both of these methods will agree because how far left a value is controls the area under the curve to the left of that point."
   ]
  },
  {
   "cell_type": "markdown",
   "metadata": {},
   "source": [
    "***(2 points)*** According to the acquired p-value what is the largest confidence interval we could have used to reject the null hypothesis?"
   ]
  },
  {
   "cell_type": "code",
   "execution_count": 15,
   "metadata": {},
   "outputs": [
    {
     "name": "stdout",
     "output_type": "stream",
     "text": [
      "The largest confidnce interval is 0.9999978774422692\n"
     ]
    }
   ],
   "source": [
    "# Code you solution here\n",
    "ci = 1-p\n",
    "print(\"The largest confidnce interval is\", ci)"
   ]
  },
  {
   "cell_type": "markdown",
   "metadata": {},
   "source": [
    "# Problem 3\n",
    "***\n",
    "Widg's are fairly rare and difficult to come by.\n",
    "\n",
    "\n",
    "In order to determine the density of a widg, one must destroy them with a crushing mechanism. A sample of of $n=200$ widg densities has been determined.\n",
    "\n",
    "From this sample, we would like to determine the probable density of other widgs' in the population. Of course we don't want to crush anymore widgs and they are hard to come by, so we will have to make due with this one sample.\n",
    "\n",
    "The csv file `strap.csv` is the sample ($n=200$) obtained from a distribution of widg densities. \n",
    "\n",
    "***(read-in)*** load the csv into a dataframe called dfWidg."
   ]
  },
  {
   "cell_type": "code",
   "execution_count": 31,
   "metadata": {},
   "outputs": [
    {
     "data": {
      "text/html": [
       "<div>\n",
       "<style scoped>\n",
       "    .dataframe tbody tr th:only-of-type {\n",
       "        vertical-align: middle;\n",
       "    }\n",
       "\n",
       "    .dataframe tbody tr th {\n",
       "        vertical-align: top;\n",
       "    }\n",
       "\n",
       "    .dataframe thead th {\n",
       "        text-align: right;\n",
       "    }\n",
       "</style>\n",
       "<table border=\"1\" class=\"dataframe\">\n",
       "  <thead>\n",
       "    <tr style=\"text-align: right;\">\n",
       "      <th></th>\n",
       "      <th>widg</th>\n",
       "    </tr>\n",
       "  </thead>\n",
       "  <tbody>\n",
       "    <tr>\n",
       "      <th>0</th>\n",
       "      <td>2</td>\n",
       "    </tr>\n",
       "    <tr>\n",
       "      <th>1</th>\n",
       "      <td>3</td>\n",
       "    </tr>\n",
       "    <tr>\n",
       "      <th>2</th>\n",
       "      <td>3</td>\n",
       "    </tr>\n",
       "    <tr>\n",
       "      <th>3</th>\n",
       "      <td>1</td>\n",
       "    </tr>\n",
       "    <tr>\n",
       "      <th>4</th>\n",
       "      <td>1</td>\n",
       "    </tr>\n",
       "  </tbody>\n",
       "</table>\n",
       "</div>"
      ],
      "text/plain": [
       "   widg\n",
       "0     2\n",
       "1     3\n",
       "2     3\n",
       "3     1\n",
       "4     1"
      ]
     },
     "execution_count": 31,
     "metadata": {},
     "output_type": "execute_result"
    }
   ],
   "source": [
    "# Code your work here:\n",
    "dfWidg = pd.read_csv(\"strap.csv\")\n",
    "dfWidg.head()"
   ]
  },
  {
   "cell_type": "markdown",
   "metadata": {},
   "source": [
    "***(4 points)*** Write a function to draw $10000$ bootstrapped resamples (with replacement) from this sample of 200 widg densities and compute a bootstrapped confidence interval for the mean at the 90% confidence level.\n"
   ]
  },
  {
   "cell_type": "code",
   "execution_count": 32,
   "metadata": {},
   "outputs": [
    {
     "data": {
      "text/plain": [
       "[2.39, 2.705]"
      ]
     },
     "execution_count": 32,
     "metadata": {},
     "output_type": "execute_result"
    }
   ],
   "source": [
    "# Code your answer here:\n",
    "def bootstrapped_mean(sample, num_boots=10000):\n",
    "    \n",
    "    list_of_means = []\n",
    "    \n",
    "    for i in range(0,num_boots):\n",
    "        resample = np.random.choice(sample,size = len(sample))\n",
    "        mean_resample = np.mean(resample)\n",
    "        list_of_means.append(mean_resample)\n",
    "    L = np.percentile(list_of_means,5)\n",
    "    U = np.percentile(list_of_means,95)\n",
    "    \n",
    "    CI = [L, U]\n",
    "    return CI \n",
    "    \n",
    "bootstrapped_mean(dfWidg['widg'])"
   ]
  },
  {
   "cell_type": "markdown",
   "metadata": {},
   "source": [
    "***(2 points)*** What is the meaning of this 90% CI?"
   ]
  },
  {
   "cell_type": "markdown",
   "metadata": {},
   "source": [
    "Solution:\n",
    "This means that there is a 90% chance that the population mean falls in this interval."
   ]
  },
  {
   "cell_type": "markdown",
   "metadata": {},
   "source": [
    "***(4 points)*** write a function that will graph a $\\color{red}{\\text{histogram}}$ of our 10000 bootstrap samples with the $\\color{blue}{\\text{confidence interval}}$ superimposed on the histogram.\n",
    "\n",
    "BTW, choose your own colors: https://datascientyst.com/full-list-named-colors-pandas-python-matplotlib/\n"
   ]
  },
  {
   "cell_type": "code",
   "execution_count": 33,
   "metadata": {},
   "outputs": [
    {
     "data": {
      "text/plain": [
       "[2.35, 2.74]"
      ]
     },
     "execution_count": 33,
     "metadata": {},
     "output_type": "execute_result"
    },
    {
     "data": {
      "image/png": "[encoded data removed]",
      "text/plain": [
       "<Figure size 864x432 with 1 Axes>"
      ]
     },
     "metadata": {
      "needs_background": "light"
     },
     "output_type": "display_data"
    }
   ],
   "source": [
    "# Code your answer here:\n",
    "def bootstrapped_mean(sample, num_boots=10000):\n",
    "    \n",
    "    list_of_means = []\n",
    "    \n",
    "    for i in range(0,num_boots):\n",
    "        resample = np.random.choice(sample,size = len(sample))\n",
    "        mean_resample = np.mean(resample)\n",
    "        list_of_means.append(mean_resample)\n",
    "    L = np.percentile(list_of_means,2.5)\n",
    "    U = np.percentile(list_of_means,97.5)\n",
    "    \n",
    "    CI = [L, U]\n",
    "\n",
    "    fig, ax = plt.subplots(nrows=1, ncols=1, figsize=(12,6))\n",
    "    pd.Series(list_of_means).hist(ax=ax, color=\"steelblue\", edgecolor=\"white\", bins=20, density=False)\n",
    "    ax.grid(alpha=0.25)\n",
    "    ax.set_axisbelow(True)\n",
    "    ax.set_xlabel(\"Bootstrapped Mean Estimates\", fontsize=16)\n",
    "    ax.set_ylabel(\"Frequency\", fontsize=16)\n",
    "    \n",
    "    ax.plot([CI[0], CI[1]], [num_boots/12, num_boots/12], color=\"red\", lw=3)\n",
    "    ax.plot([CI[0], CI[0]], [num_boots/12-10, num_boots/12+10], color=\"red\", lw=3)\n",
    "    ax.plot([CI[1], CI[1]], [num_boots/12-10, num_boots/12+10], color=\"red\", lw=3)\n",
    "    return CI \n",
    "bootstrapped_mean(dfWidg['widg'])"
   ]
  },
  {
   "cell_type": "markdown",
   "metadata": {},
   "source": [
    "***(2 points)*** What is the mean of the $n=200$ data, and is this mean found inside the bootstrap CI?"
   ]
  },
  {
   "cell_type": "code",
   "execution_count": 38,
   "metadata": {},
   "outputs": [
    {
     "name": "stdout",
     "output_type": "stream",
     "text": [
      "The mean is 2.545 this mean is found inside of the bootstrap confidence interval.\n"
     ]
    }
   ],
   "source": [
    "# Code your solution here:\n",
    "mean = dfWidg.mean()[0]\n",
    "print(\"The mean is\", mean, \"this mean is found inside of the bootstrap confidence interval.\")"
   ]
  },
  {
   "cell_type": "markdown",
   "metadata": {},
   "source": [
    "***(2 points)*** Graph a histogram of our 10000 bootstrap samples with the confidence interval superimposed on the histogram, AND the sample mean as a dot on the CI. BTW, the actual population mean is 2.5. You likely arrived at a mean that is very close to this. "
   ]
  },
  {
   "cell_type": "code",
   "execution_count": 49,
   "metadata": {},
   "outputs": [
    {
     "data": {
      "text/plain": [
       "[2.36, 2.735]"
      ]
     },
     "execution_count": 49,
     "metadata": {},
     "output_type": "execute_result"
    },
    {
     "data": {
      "image/png": "[encoded data removed]",
      "text/plain": [
       "<Figure size 864x432 with 1 Axes>"
      ]
     },
     "metadata": {
      "needs_background": "light"
     },
     "output_type": "display_data"
    }
   ],
   "source": [
    "# Code your answer here:\n",
    "def bootstrapped_mean(sample, num_boots=10000):\n",
    "    \n",
    "    list_of_means = []\n",
    "    \n",
    "    for i in range(0,num_boots):\n",
    "        resample = np.random.choice(sample,size = len(sample))\n",
    "        mean_resample = np.mean(resample)\n",
    "        list_of_means.append(mean_resample)\n",
    "    L = np.percentile(list_of_means,2.5)\n",
    "    U = np.percentile(list_of_means,97.5)\n",
    "    \n",
    "    CI = [L, U]\n",
    "\n",
    "    fig, ax = plt.subplots(nrows=1, ncols=1, figsize=(12,6))\n",
    "    pd.Series(list_of_means).hist(ax=ax, color=\"steelblue\", edgecolor=\"white\", bins=20, density=False)\n",
    "    ax.grid(alpha=0.25)\n",
    "    ax.set_axisbelow(True)\n",
    "    ax.set_xlabel(\"Bootstrapped Mean Estimates\", fontsize=16)\n",
    "    ax.set_ylabel(\"Frequency\", fontsize=16)\n",
    "    \n",
    "    ax.plot([CI[0], CI[1]], [num_boots/12, num_boots/12], color=\"red\", lw=3)\n",
    "    ax.plot([CI[0], CI[0]], [num_boots/12-10, num_boots/12+10], color=\"red\", lw=3)\n",
    "    ax.plot([CI[1], CI[1]], [num_boots/12-10, num_boots/12+10], color=\"red\", lw=3)\n",
    "    ax.plot(mean,835, marker = 'o', color = \"cyan\")\n",
    "    return CI \n",
    "bootstrapped_mean(dfWidg['widg'])"
   ]
  },
  {
   "cell_type": "code",
   "execution_count": null,
   "metadata": {},
   "outputs": [],
   "source": []
  }
 ],
 "metadata": {
  "kernelspec": {
   "display_name": "Python 3 (ipykernel)",
   "language": "python",
   "name": "python3"
  },
  "language_info": {
   "codemirror_mode": {
    "name": "ipython",
    "version": 3
   },
   "file_extension": ".py",
   "mimetype": "text/x-python",
   "name": "python",
   "nbconvert_exporter": "python",
   "pygments_lexer": "ipython3",
   "version": "3.10.5"
  }
 },
 "nbformat": 4,
 "nbformat_minor": 4
}
