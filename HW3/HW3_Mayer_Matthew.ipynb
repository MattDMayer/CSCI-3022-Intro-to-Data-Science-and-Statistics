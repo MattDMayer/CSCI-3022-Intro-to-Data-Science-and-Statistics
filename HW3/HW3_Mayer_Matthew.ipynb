{
 "cells": [
  {
   "cell_type": "markdown",
   "metadata": {},
   "source": [
    "# Homework 03: Probability \n",
    "***\n",
    "\n",
    "**Name**: Matthew Mayer\n",
    "\n",
    "***\n",
    "\n",
    "This assignment is due on Canvas by **6:00PM on Friday September 16**. Your solutions to theoretical questions should be done in Markdown directly below the associated question.  Your solutions to computational questions should include any specified Python code and results as well as written commentary on your conclusions.  Remember that you are encouraged to discuss the problems with your classmates, but **you must write all code and solutions on your own**.\n",
    "\n",
    "**NOTES**: \n",
    "\n",
    "- Any relevant data sets should be available in the Homework 01 assignment write-up on Canvas. To make life easier on the grader if they need to run your code, do not change the relative path names here. Instead, move the files around on your computer.\n",
    "- If you're not familiar with typesetting math directly into Markdown then by all means, do your work on paper first and then typeset it later.  Remember that there is a [reference guide](https://math.meta.stackexchange.com/questions/5020/mathjax-basic-tutorial-and-quick-reference) linked on Canvas on writing math in Markdown. **All** of your written commentary, justifications and mathematical work should be in Markdown.\n",
    "- Because you can technically evaluate notebook cells is a non-linear order, it's a good idea to do $\\color{red}{\\text{Kernel}}$ $\\color{red}\\rightarrow$ $\\color{red}{\\text{Restart & Run All}}$ as a check before submitting your solutions.  That way if we need to run your code you will know that it will work as expected. \n",
    "- It is **bad form** to make your reader interpret numerical output from your code.  If a question asks you to compute some value from the data you should show your code output **AND** $\\color{red}{\\text{write a summary of the results}}$ in Markdown directly below your code. \n",
    "- This probably goes without saying, but... For any question that asks you to calculate something, you **must show all work and justify your answers to receive credit**. Sparse or nonexistent work will receive sparse or nonexistent credit. \n",
    "\n",
    "---"
   ]
  },
  {
   "cell_type": "markdown",
   "metadata": {},
   "source": [
    "Import Pandas and NumPy anytime you are doind data analysis."
   ]
  },
  {
   "cell_type": "code",
   "execution_count": 1,
   "metadata": {},
   "outputs": [],
   "source": [
    "# Per the standard import pandas as 'pd' and numpy as 'np'\n",
    "import pandas as pd\n",
    "import numpy as np                                                                                                 \n"
   ]
  },
  {
   "cell_type": "markdown",
   "metadata": {},
   "source": [
    "You may or may not need this depending on how you create your own homework, but if you need to create a graph, you should load Matplotlib's Pylab library to set up Jupyter so that it will plot directly in the notebook."
   ]
  },
  {
   "cell_type": "code",
   "execution_count": 2,
   "metadata": {},
   "outputs": [],
   "source": [
    "import matplotlib.pylab as plt\n",
    "%matplotlib inline \n",
    "    # Recall 'inline' puts your graph in the cell versus a new popup window"
   ]
  },
  {
   "cell_type": "markdown",
   "metadata": {},
   "source": [
    "# Problem 1\n",
    "***\n",
    "Suppose you are asked to manage/interview the employees at a new Boulder start-up called ***Programmers of Large Opulent Problems***, or PLOP.\n",
    "\n",
    "PLOP employs 100 programmers. Forty-five of the programmers are proficient in Java, 30 in C#, 20 in Python, six in C# and Java, one in Java and Python, five in C# and Python, and just one programmer is proficient in all three languages."
   ]
  },
  {
   "cell_type": "markdown",
   "metadata": {},
   "source": [
    "***(7 points)***\n",
    "Suppose an employee is randomly chosen to interview with you concerning their coding proficiency and general productivity. What is the probability that the chosen employee is not proficient in any of the three languages mentioned?\n",
    "\n",
    "![title](programmer.png)\n"
   ]
  },
  {
   "cell_type": "markdown",
   "metadata": {},
   "source": [
    "Write up your solution to Problem 1 here:\n",
    "\n",
    "Total number of people proficient in at least one language:\n",
    "= |C#| + |Py| + |Java| - |Java ∩ Python| - |C# ∩  Java| - |C# ∩ Py| + |C# U Py U Java| = 30 + 20 + 45 - 6 - 1 -5 + 1 = 84\n",
    "84/100 are proficient so 16/100 are not.\n",
    "***Solution: 16/100***"
   ]
  },
  {
   "cell_type": "markdown",
   "metadata": {},
   "source": [
    "\n",
    "# Problem 2\n",
    "***\n",
    "For a certain period of time (months and months) you decide that sometimes wearing a colorful hat should be your latest fashion statement. Looking back over past time you note that there were some days you wore a hat and some days that you did not wear a hat.\n",
    "\n",
    "'A' is the event that you wore a red hat.\n",
    "'B' is the event that you wore a blue hat.\n",
    "'C' is the event that it rained.\n",
    "\n",
    "You do some data analysis on this past period of time.\n",
    "\n",
    "You discover that the probability that you wore a red hat or that it rained is $\\frac{2}{3}$.\n",
    "\n",
    "The probability that you wore a blue hat or that it rained is $\\frac{3}{4}$.\n",
    "\n",
    "The probability that you wore a red hat, or that you wore a blue hat, or that it rained is $\\frac{11}{12}$."
   ]
  },
  {
   "cell_type": "markdown",
   "metadata": {},
   "source": [
    "# Part A\n",
    "\n",
    "***(4 points)***\n",
    "\n",
    "What is the probability that you wore a red hat?"
   ]
  },
  {
   "cell_type": "markdown",
   "metadata": {},
   "source": [
    "Put your solution to Problem 2, Part A here:\n",
    "To solve for P(A) let us start by stating our givens. We are given:\n",
    "$$P(A\\cup C)=\\frac{2}{3}$$\n",
    "\n",
    "$$P(B\\cup C)=\\frac{3}{4}$$\n",
    "\n",
    "$$\\text{and } P(A\\cup B \\cup C)=\\frac{11}{12}$$\n",
    "\n",
    "This gives us:\n",
    "$$P(A\\cup C)^c=\\frac{1}{3}$$\n",
    "\n",
    "$$P(B\\cup C)^c=\\frac{1}{4}$$\n",
    "\n",
    "$$\\text{and } P(A\\cup B \\cup C)^c=\\frac{1}{12}$$\n",
    "\n",
    "We could then determine the values that A has without intersecting with C and the values of B without intersecting with C:\n",
    "\n",
    "$$P(B\\cup C)^c=1/4 \\text{ and } P(A\\cup B\\cup C)^c=1/12$$\n",
    "\n",
    "So we know that 2/12 belong in A without its intersection with C.\n",
    "\n",
    "We can do this for the values that B has without intersecting C as well:\n",
    "\n",
    "$$P(A\\cup C)^c=1/3 \\text{ and } P(A\\cup B\\cup C)^c=1/12$$\n",
    "\n",
    "So we know that 3/12 belong in B without its intersection with C. This also leaves 6/12 of the time belonging to C although we don't know where these values intersect with A and B and where they are just in C with no hats.\n",
    "\n",
    "Without making any assumptions though we can't solve the problem any further from this point.\n",
    "However we can safely make the assumpiton that the weather doesn't effect if we choose to make our fashion statement with a hat and that our wearing of a hat doesn't affect the weather. With this assumption that $A$ and $C$ and that $B$ and $C$ are independent we can then solve the rest of the problem.\n",
    "\n",
    "Because of their independent relationship we know that $$P(A\\cap C) = P(A)P(C)$$.\n",
    "\n",
    "We can then use the equation: $P(A\\cup C) = P(A) + P(C) -P(A\\cap C)$ and sub in values to get: \n",
    "\n",
    "$$\\frac{2}{3}=P(A)+\\frac{1}{2}-P(A)P(C)$$\n",
    "\n",
    "$$\\frac{2}{12}=P(A)-P(A)\\cdot \\frac{1}{2}$$\n",
    "\n",
    "$$\\frac{2}{12}=P(A)(1-\\frac{1}{2})$$\n",
    "\n",
    "$$\\frac{2}{12}=P(A)(\\frac{1}{2})$$\n",
    "\n",
    "$$\\frac{4}{12}=P(A)$$\n",
    "\n",
    "So we know that a red hat is worn 1/3 of the time.\n",
    "\n",
    "***solution: 1/3***   "
   ]
  },
  {
   "cell_type": "markdown",
   "metadata": {},
   "source": [
    "# Part B\n",
    "\n",
    "***(4 points)***\n",
    "\n",
    "What is the probability that you wore a blue hat?"
   ]
  },
  {
   "cell_type": "markdown",
   "metadata": {},
   "source": [
    "Put your solution to Problem 2, Part B here:\n",
    "\n",
    "Using the same setup from part A, we know that:\n",
    "\n",
    "$$P(B\\cup C) =P(B) - P(B\\cap C)+P(C)$$\n",
    "\n",
    "and that we assumed independce between B and C so we know that $P(B)P(C)=P(B\\cap C)$.\n",
    "\n",
    "Substituting the values we got for part A we get:\n",
    "\n",
    "$$P(B\\cup C) =P(B) - P(B\\cap C)+P(C)$$\n",
    "\n",
    "$$\\frac{3}{4} =P(B) - P(B)P(C)+P(C)$$\n",
    "\n",
    "$$\\frac{3}{4} =P(B) - P(B)\\frac{1}{2}+\\frac{1}{2}$$\n",
    "\n",
    "$$\\frac{1}{4} =P(B) - P(B)\\frac{1}{2}$$\n",
    "\n",
    "$$\\frac{1}{4} =P(B) (1-\\frac{1}{2})$$\n",
    "\n",
    "$$\\frac{2}{4} = P(B)$$\n",
    "\n",
    "\n",
    "So we know that a blue hat is worn half of the time.\n",
    "\n",
    "***solution: 1/2***"
   ]
  },
  {
   "cell_type": "markdown",
   "metadata": {},
   "source": [
    "# Part C\n",
    "\n",
    "***(4 points)***\n",
    "\n",
    "What is the probability that it rained?"
   ]
  },
  {
   "cell_type": "markdown",
   "metadata": {},
   "source": [
    "Put your solution to Problem 2, Part B here:\n",
    "\n",
    "As used to solve both parts A and B $P(C)=\\frac{6}{12}$.\n",
    "\n",
    "***solution: 1/2***"
   ]
  },
  {
   "cell_type": "markdown",
   "metadata": {},
   "source": [
    "# Problem 3\n",
    "***\n",
    "It is free donut day on campus! There are three locations offering each participant one free donut; either a glazed donut or a cake donut.\n",
    "\n",
    "The C4C is offering donuts, 75% of their donuts are glazed and 25% are cake.\n",
    "\n",
    "The Alfred Packer Grill is offering donuts. 60% of their donuts are glazed and 40% are cake.\n",
    "\n",
    "The SEEC Cafe (East campus) is offering donuts, 45% are glazed and 55% are cake."
   ]
  },
  {
   "cell_type": "markdown",
   "metadata": {},
   "source": [
    "# Part A\n",
    "\n",
    "***(4 points)***\n",
    "\n",
    "If you randomly choose a donut location (each location is equally likely) and then your chosen location randomly grabs a donut and hands it to you, then what is the probability that your newly acquired donut is glazed?\n",
    "\n",
    "$\\color{blue}{\\text{The picture below is merely here to help visualize this as a law of total probability type problem.}}$\n",
    "\n",
    "$\\color{blue}{\\text{You need not use the pictured variables.}}$\n",
    "\n",
    "![title](tp.png)"
   ]
  },
  {
   "cell_type": "markdown",
   "metadata": {},
   "source": [
    "Put your answer to problem 3, part A here:\n",
    "\n",
    "(.75 + .6 + .45)/3\n",
    "\n",
    "***solution: 60% or 0.6***"
   ]
  },
  {
   "cell_type": "markdown",
   "metadata": {
    "tags": []
   },
   "source": [
    "# Part B\n",
    "\n",
    "***(5 points)***\n",
    "\n",
    "For the same situation mentioned above, create some code that will run a simulation to estimate the probability of getting a glazed donut. *(Use n=1000)*\n",
    "\n",
    "Run the code and verify that it agrees with the by-hand computation you arrived at above."
   ]
  },
  {
   "cell_type": "code",
   "execution_count": 16,
   "metadata": {},
   "outputs": [
    {
     "name": "stdout",
     "output_type": "stream",
     "text": [
      "the probability of getting a glazed dougnut is approximately 0.612 which is close to the calculated 60%\n"
     ]
    }
   ],
   "source": [
    "# Put your code for Part B here:\n",
    "c4c = np.array([\"G\", \"G\", \"G\", \"C\", \"G\", \"G\", \"G\", \"C\", \"G\", \"G\", \"G\", \"C\", \"G\", \"G\", \"G\", \"C\", \"G\", \"G\", \"G\", \"C\"])\n",
    "apc = np.array([\"G\",\"G\",\"G\",\"C\",\"C\", \"G\",\"G\",\"G\",\"C\",\"C\", \"G\",\"G\",\"G\",\"C\",\"C\", \"G\",\"G\",\"G\",\"C\",\"C\"])\n",
    "SEEC = np.array([\"G\",\"G\",\"G\",\"G\",\"G\",\"G\",\"G\",\"G\",\"G\", \"C\",\"C\",\"C\",\"C\",\"C\",\"C\",\"C\",\"C\",\"C\",\"C\",\"C\",])\n",
    "doughnuts = np.concatenate([c4c, apc, SEEC])\n",
    "randough = np.random.choice(doughnuts, size=1000)\n",
    "approx = np.sum(randough == \"G\") / len(randough)\n",
    "print(\"the probability of getting a glazed dougnut is approximately {:.3f} which is close to the calculated 60%\".format(approx))"
   ]
  },
  {
   "cell_type": "markdown",
   "metadata": {},
   "source": [
    "# Problem 4\n",
    "***\n",
    "Suppose you decide to join a game club to meet other folks on campus. You become facinated with the tetrahedron, or 4-sided die.\n",
    "\n",
    "This particular die has its sides marked with '1', '2', '3', and '4'.\n",
    "\n",
    "You roll the tetrahedron $\\color{red}{three}$ times:\n",
    "\n",
    "![title](tetra.png)\n",
    "\n"
   ]
  },
  {
   "cell_type": "markdown",
   "metadata": {},
   "source": [
    "# Part A\n",
    "\n",
    "***(3 points)***\n",
    "\n",
    "What is the probability that you roll a '4' three times in a row?\n"
   ]
  },
  {
   "cell_type": "markdown",
   "metadata": {},
   "source": [
    "Put your answer to number 4, part A here:\n",
    "\n",
    "***solution: 1/64***"
   ]
  },
  {
   "cell_type": "code",
   "execution_count": null,
   "metadata": {},
   "outputs": [],
   "source": []
  },
  {
   "cell_type": "markdown",
   "metadata": {},
   "source": [
    "# Part B\n",
    "\n",
    "***(3 points)***\n",
    "\n",
    "What is the probability that you roll only a single '4' in the three rolls?"
   ]
  },
  {
   "cell_type": "markdown",
   "metadata": {},
   "source": [
    "Put your answer to number 4, part B, here:\n",
    "\n",
    "$$P(B)=\\binom3 1  (\\frac{1}{4})^1(\\frac{3}{4})^2$$\n",
    "$$P(B) = 27/64$$\n",
    "\n",
    "***solution: 27/64***"
   ]
  },
  {
   "cell_type": "code",
   "execution_count": null,
   "metadata": {},
   "outputs": [],
   "source": []
  },
  {
   "cell_type": "markdown",
   "metadata": {},
   "source": [
    "# Part C\n",
    "\n",
    "***(4 points)***\n",
    "\n",
    "Given that you have observed at least one '4', what is the probability that you observe at least two 4's?"
   ]
  },
  {
   "cell_type": "markdown",
   "metadata": {},
   "source": [
    "Put your answer to number 4, part C, here:\n",
    "\n",
    "$$P(A\\cap C) = 10/64$$\n",
    "$$P(C) = 37/64$$\n",
    "\n",
    "$$P(A|C)=\\frac{10/64}{37/64}$$\n",
    "$$P(A|C)=\\frac{10}{37}$$\n",
    "\n",
    "***solution: 10/37***"
   ]
  },
  {
   "cell_type": "code",
   "execution_count": null,
   "metadata": {},
   "outputs": [],
   "source": []
  },
  {
   "cell_type": "markdown",
   "metadata": {},
   "source": [
    "# Problem 5\n",
    "***\n",
    "In an attempt to avoid COVID, a group of 100 students seperate themselves from CU society and choose to live in connected housing apart from all other people.\n",
    "\n",
    "Unfortunately, and unbeknown to anyone, one of the students had COVID when the group went into isolation.\n",
    "\n",
    "It is known that 90% of COVID tests will detect the virus (i.e. true positives) while 9.6% of the tests are false positives."
   ]
  },
  {
   "cell_type": "markdown",
   "metadata": {},
   "source": [
    "***(7 points)***\n",
    "\n",
    "If, on move-in day, a randomly chosen person, within this group of 100, gets a positive test result, what is the probability that they actually have COVID?"
   ]
  },
  {
   "cell_type": "markdown",
   "metadata": {},
   "source": [
    "Put your answer to problem 5 here:\n",
    "\n",
    "Following the information given in the problem we can get P(T) using the two cases where a test reads positive.\n",
    "\n",
    "$$P(T)=P(T|V)\\cdot P(V) + P(T|V^c)\\cdot P(V^c)$$\n",
    "\n",
    "$$P(T)=(0.01\\cdot 0.9) + (0.99\\cdot 0.096)$$\n",
    "\n",
    "$$P(T)=0.10404$$\n",
    "\n",
    "Then we can do the following to see if a positive test means the person actually has COVID:\n",
    "\n",
    "$$P(V|T)=\\frac{P(V)\\cdot P(T|V)}{P(T)}$$\n",
    "\n",
    "$$P(V|T)=\\frac{0.01\\cdot 0.9}{0.10404}$$\n",
    "\n",
    "$$P(V|T)\\thickapprox 0.087$$\n",
    "\n",
    "\n",
    "***solution: There is a probability of about 8.7% that the person with a positive test has COVID.***"
   ]
  },
  {
   "cell_type": "markdown",
   "metadata": {},
   "source": [
    "# Problem 6\n",
    "***\n",
    "### Formatting ***(5 points total)***\n",
    "\n",
    "a. Problems not linked to Gradescope ***(2 points)***\n",
    "\n",
    "b. Poor comments, or no commenting ***(1 point)***\n",
    "\n",
    "c. Markdown not rendered ***(1 point)***\n",
    "\n",
    "d. Explanations are not formatted correctly, or are not printed ***(1 point)***\n"
   ]
  },
  {
   "cell_type": "code",
   "execution_count": null,
   "metadata": {},
   "outputs": [],
   "source": []
  }
 ],
 "metadata": {
  "kernelspec": {
   "display_name": "Python 3 (ipykernel)",
   "language": "python",
   "name": "python3"
  },
  "language_info": {
   "codemirror_mode": {
    "name": "ipython",
    "version": 3
   },
   "file_extension": ".py",
   "mimetype": "text/x-python",
   "name": "python",
   "nbconvert_exporter": "python",
   "pygments_lexer": "ipython3",
   "version": "3.10.5"
  }
 },
 "nbformat": 4,
 "nbformat_minor": 4
}
