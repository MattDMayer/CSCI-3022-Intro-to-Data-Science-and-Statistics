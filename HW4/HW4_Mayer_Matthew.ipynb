{
 "cells": [
  {
   "cell_type": "markdown",
   "metadata": {},
   "source": [
    "# Homework 04: Bayes and DRV's\n",
    "***\n",
    "\n",
    "**Name**: Matthew Mayer\n",
    "\n",
    "***\n",
    "\n",
    "This assignment is due on Canvas by **6:00PM on Friday September 23**. Your solutions to theoretical questions should be done in Markdown directly below the associated question.  Your solutions to computational questions should include any specified Python code and results as well as written commentary on your conclusions.  Remember that you are encouraged to discuss the problems with your classmates, but **you must write all code and solutions on your own**.\n",
    "\n",
    "**NOTES**: \n",
    "\n",
    "- Any relevant data sets should be available in the Homework 01 assignment write-up on Canvas. To make life easier on the grader if they need to run your code, do not change the relative path names here. Instead, move the files around on your computer.\n",
    "- If you're not familiar with typesetting math directly into Markdown then by all means, do your work on paper first and then typeset it later.  Remember that there is a [reference guide](https://math.meta.stackexchange.com/questions/5020/mathjax-basic-tutorial-and-quick-reference) linked on Canvas on writing math in Markdown. **All** of your written commentary, justifications and mathematical work should be in Markdown.\n",
    "- Because you can technically evaluate notebook cells is a non-linear order, it's a good idea to do $\\color{red}{\\text{Kernel}}$ $\\color{red}\\rightarrow$ $\\color{red}{\\text{Restart & Run All}}$ as a check before submitting your solutions.  That way if we need to run your code you will know that it will work as expected. \n",
    "- It is **bad form** to make your reader interpret numerical output from your code.  If a question asks you to compute some value from the data you should show your code output **AND** $\\color{red}{\\text{write a summary of the results}}$ in Markdown directly below your code. \n",
    "- This probably goes without saying, but... For any question that asks you to calculate something, you **must show all work and justify your answers to receive credit**. Sparse or nonexistent work will receive sparse or nonexistent credit. \n",
    "\n",
    "---"
   ]
  },
  {
   "cell_type": "markdown",
   "metadata": {},
   "source": [
    "Import Pandas and NumPy."
   ]
  },
  {
   "cell_type": "code",
   "execution_count": 1,
   "metadata": {},
   "outputs": [],
   "source": [
    "# Per the standard import pandas as 'pd' and numpy as 'np'\n",
    "import pandas as pd\n",
    "import numpy as np\n",
    "\n",
    "# You may need binom to calculate a binomial coefficient\n",
    "from scipy.special import binom"
   ]
  },
  {
   "cell_type": "markdown",
   "metadata": {},
   "source": [
    "In case you create a graph, load Matplotlib's Pylab library to set up Jupyter so that it will plot directly in the notebook."
   ]
  },
  {
   "cell_type": "code",
   "execution_count": 2,
   "metadata": {},
   "outputs": [],
   "source": [
    "import matplotlib.pylab as plt\n",
    "%matplotlib inline \n",
    "    # 'inline' puts your graph in the cell versus a new popup window"
   ]
  },
  {
   "cell_type": "markdown",
   "metadata": {},
   "source": [
    "# Problem 1\n",
    "***\n",
    "You have become concerned about your diet and decide that at each of your regular three meals per day that you eat, you are going to add a serving with a particular important nutrient. Sometimes you add vitamin C, sometimes you add protein, and sometimes you add iron.\n",
    "\n",
    "For instance, on a given day, you may eat an additional vitamin C serving for breakfast, an additional protein serving for lunch, and another additional protein serving for dinner.\n",
    "\n",
    "On a different day you decide to add iron to breakfast, vitamin C to lunch, and protein to dinner. What you choose to add to each meal is a random choice.\n",
    "\n",
    "Let $X$ be a random variable that indicates how many servings of protein you added on a given day."
   ]
  },
  {
   "cell_type": "markdown",
   "metadata": {},
   "source": [
    "### Part A\n",
    "***\n",
    "\n",
    "***(1 points)*** What is the probability mass function of $X$?\n"
   ]
  },
  {
   "cell_type": "markdown",
   "metadata": {},
   "source": [
    "$$p_x(k)=P(X=k)=\\binom n k p^k(1-p)^{n-k}$$\n",
    "\n",
    "$$p(0)=P(X=0)=\\frac{1}{3}^0\\cdot\\frac{2}{3}^3\\cdot\\binom 3 0 = \\frac{8}{27}$$\n",
    "\n",
    "$$p(1)=P(X=1)=p(0))=\\frac{1}{3}^1\\cdot\\frac{2}{3}^2\\cdot\\binom 3 1=\\frac{12}{27}$$\n",
    "\n",
    "$$p(2)=P(X=2)= \\frac{1}{3}^2\\cdot\\frac{2}{3}^1\\cdot\\binom 3 2 =\\frac{6}{27}$$\n",
    "\n",
    "$$p(3)=P(X=3)=\\frac{1}{3}^3\\cdot\\frac{2}{3}^0\\cdot\\binom 3 3=\\frac{1}{27}$$\n",
    "\n",
    "***solution:  *** \n",
    "\n",
    "Thus the pmf can be described with the above function with the following values\n",
    "\n",
    "| X   | 0    | 1     | 2    | 3    |\n",
    "|--------------|------|-------|------|------|\n",
    "| P(X) | 8/27 | 12/27 | 6/27 | 1/27 |\n",
    "\n"
   ]
  },
  {
   "cell_type": "markdown",
   "metadata": {},
   "source": [
    "### Part B\n",
    "***\n",
    "\n",
    "***(1 points)*** What is the cumulative distribution function for $X$?\n",
    "\n"
   ]
  },
  {
   "cell_type": "markdown",
   "metadata": {},
   "source": [
    "$$F(x;p,n)=\\sum^3_{i=0}\\binom n i (p)^i(1-p)^{(n-1)}$$\n",
    "\n",
    "The following numbers were determined from the work in part A.\n",
    "\n",
    "$$P(X\\leq 0) = \\frac{8}{27}$$\n",
    "\n",
    "$$P(X\\leq 1) = \\frac{8}{27} + \\frac{12}{27} = \\frac{20}{27}$$\n",
    "\n",
    "$$P(X\\leq 2) = \\frac{20}{27}+\\frac{6}{27} =\\frac{26}{27}$$\n",
    "\n",
    "$$P(X\\leq 3) = \\frac{26}{27}+\\frac{1}{27}=\\frac{27}{27}$$\n",
    "\n",
    "***solution:*** Put your solution to part B here:\n",
    "\n",
    "Thus the cdf can be described with the following table:\n",
    "\n",
    "| X   | 0    | 1     | 2    | 3    |\n",
    "|--------------|------|-------|------|------|\n",
    "| P(<=X) | 8/27 | 20/27 | 26/27 | 27/27 |"
   ]
  },
  {
   "cell_type": "markdown",
   "metadata": {},
   "source": [
    "### Part C\n",
    "***\n",
    "\n",
    "***(1 points)*** What is the probability that you added 2 or fewer servings of protein on a day?"
   ]
  },
  {
   "cell_type": "markdown",
   "metadata": {},
   "source": [
    "***solution:*** 26/27"
   ]
  },
  {
   "cell_type": "markdown",
   "metadata": {},
   "source": [
    "### Part D\n",
    "***\n",
    "\n",
    "***(1 points)*** What is the probability that you added 2 or more servings or protein?"
   ]
  },
  {
   "cell_type": "markdown",
   "metadata": {},
   "source": [
    "***solution:*** 7/27\n"
   ]
  },
  {
   "cell_type": "markdown",
   "metadata": {},
   "source": [
    "# Problem 2\n",
    "***\n",
    "\n",
    "You drink 3 cups of coffee each day, and in a continuation of your plans to change your diet you decide to stop using sugar in your coffee.\n",
    "\n",
    "However, you find it too difficult to completely stop using sugar. Therefore, 20% of the time you end up using sugar in your coffee anyway.\n",
    "\n",
    "Let $X$ be the random variable that indicates the number of 'sugared' coffees out of three that you drink per day.\n",
    "\n",
    "***(1 points)*** What is the probability mass function? Consider 'no sugar' to be success."
   ]
  },
  {
   "cell_type": "markdown",
   "metadata": {},
   "source": [
    "There are three coffees throughout the day: $C_1, C_2, C_3$\n",
    "\n",
    "$\n",
    "C_i = \\begin{cases} 1, &  \\text{if }C_i \\text{ is correct} \\\\ \n",
    "0, & \\text{if } C_i \\text{ is incorrect}\\end{cases} \n",
    "$\n",
    "\n",
    "$\\Omega = {\\text{All of the ways of choosing 0,1,2, or 3 correct coffees out of the three drinks in a day}}$ \n",
    "\n",
    "$\\text{DRV is given by } M = C_1 +C_2 +C_3$\n",
    "\n",
    "$M: \\Omega \\rightarrow \\{0,1,2,3\\} \\text{ therefore } \\tilde{\\Omega}=\\{0,1,2,3\\}$\n",
    "\n",
    "$$p(c)=P(M=c)=(\\frac{4}{5})^c \\cdot (\\frac{1}{5})^{3-c}\\cdot\\binom3 c$$\n",
    "\n",
    "$$p(0)=P(M=0)=(\\frac{4}{5})^0 \\cdot (\\frac{1}{5})^{3-0}\\cdot\\binom3 0 = \\frac{1}{125}$$\n",
    "\n",
    "$$p(1)=P(M=1)=(\\frac{4}{5})^1 \\cdot (\\frac{1}{5})^{3-1}\\cdot\\binom3 1 = \\frac{12}{125} $$\n",
    "\n",
    "$$p(2)=P(M=2)=(\\frac{4}{5})^2 \\cdot (\\frac{1}{5})^{3-2}\\cdot\\binom3 2 = \\frac{48}{125}$$\n",
    "\n",
    "$$p(3)=P(M=3)=(\\frac{4}{5})^3 \\cdot (\\frac{1}{5})^{3-3}\\cdot\\binom3 3 = \\frac{64}{125}$$\n",
    "\n",
    "***solution:*** \n",
    "\n",
    "$$p(c)=P(M=c)=(\\frac{4}{5})^c \\cdot (\\frac{1}{5})^{3-c}\\cdot\\binom3 c$$\n",
    "\n",
    "Which can be described with the following table once values are plugged in:\n",
    "\n",
    "| X   | 0    | 1     | 2    | 3    |\n",
    "|--------------|------|-------|------|------|\n",
    "| P(X) | 1/125 | 12/125 | 48/125 | 64/125 |"
   ]
  },
  {
   "cell_type": "markdown",
   "metadata": {},
   "source": [
    "# Problem 3\n",
    "***\n",
    "Consider the probability mass function $P(X=x) = 2nx^2-2nx$ with the discrete random variable taking on values $1, 2, 3, 4$."
   ]
  },
  {
   "cell_type": "markdown",
   "metadata": {},
   "source": [
    "### Part A\n",
    "***\n",
    "A pmf is a probability function so the sum of all of its masses is 1. With this in mind we can do the following:\n",
    "$$1=\\sum^4_{i=1} (2nx^2-2nx)$$\n",
    "\n",
    "$$1=2n\\sum^4_{i=1} (x^2-x)$$\n",
    "\n",
    "$$1=2n((1-1)+(4-2)+(9-3)+(16-4))$$\n",
    "\n",
    "$$1=2n((0+2+6+12))$$\n",
    "\n",
    "$$1=2n(20)$$\n",
    "\n",
    "$$1=40n$$\n",
    "\n",
    "$$\\frac{1}{40}=n$$\n",
    "\n",
    "***(3 points)*** What is the value of $n$?"
   ]
  },
  {
   "cell_type": "markdown",
   "metadata": {},
   "source": [
    "***solution:*** $\\frac{1}{40}$"
   ]
  },
  {
   "cell_type": "markdown",
   "metadata": {},
   "source": [
    "### Part B\n",
    "***\n",
    "\n",
    " ***(2 points)*** What is $P(X=4)$?"
   ]
  },
  {
   "cell_type": "markdown",
   "metadata": {},
   "source": [
    "$$P(X=4)=2n(4)^2-2n(4)$$\n",
    "\n",
    "$$P(X=4)=2\\frac{1}{40}(4)^2-2\\frac{1}{40}(4)$$\n",
    "\n",
    "$$P(X=4)=2\\frac{16}{40}-2\\frac{4}{40}$$\n",
    "\n",
    "$$P(X=4)=\\frac{32}{40}-\\frac{8}{40}$$\n",
    "\n",
    "$$P(X=4)=\\frac{24}{40}$$\n",
    "\n",
    "$$P(X=4)=\\frac{3}{5}$$\n",
    "***solution:*** $\\frac{3}{5}$"
   ]
  },
  {
   "cell_type": "markdown",
   "metadata": {},
   "source": [
    " ### Part C\n",
    " ***\n",
    " \n",
    "***(2 points)*** What is $P(X\\leq3)=$?"
   ]
  },
  {
   "cell_type": "markdown",
   "metadata": {},
   "source": [
    "$$P(X\\leq3)=(2n(3)^2-2n(3))+(2n(2)^2-2n(2))+(2n(1)^2-2n(1))$$\n",
    "\n",
    "$$P(X\\leq3)=(2\\frac{1}{40}(3)^2-2\\frac{1}{40}(3))+(2\\frac{1}{40}(2)^2-2\\frac{1}{40}(2))+(2\\frac{1}{40}(1)^2-2\\frac{1}{40}(1))$$\n",
    "\n",
    "$$P(X\\leq3)=(2\\frac{1}{40}9-2\\frac{1}{40}(3))+(2\\frac{1}{40}4-2\\frac{1}{40}(2))+(2\\frac{1}{40}1-2\\frac{1}{40}(1))$$\n",
    "\n",
    "$$P(X\\leq3)=(\\frac{18}{40}-\\frac{6}{40})+(\\frac{8}{40}-\\frac{4}{40})+(\\frac{2}{40}-\\frac{2}{40})$$\n",
    "\n",
    "$$P(X\\leq3)=(\\frac{12}{40})+(\\frac{4}{40})+(0)$$\n",
    "\n",
    "$$P(X\\leq3)=\\frac{2}{5}$$\n",
    "\n",
    "\n",
    "***solution:*** $\\frac{2}{5}$"
   ]
  },
  {
   "cell_type": "markdown",
   "metadata": {},
   "source": [
    "# Problem 4\n",
    "***\n",
    "\n",
    "One of the following graphs (either graph 1 or graph 2) is a PMF and one is not.\n",
    "\n",
    "***(2 points)*** Draw the CDF for the one valid PMF.\n",
    "\n",
    "GRAPH 1\n",
    "\n",
    "![title](npdf.png)\n",
    "\n",
    "\n",
    "GRAPH 2\n",
    "![title](ypdf.png)"
   ]
  },
  {
   "cell_type": "code",
   "execution_count": 3,
   "metadata": {},
   "outputs": [
    {
     "data": {
      "text/plain": [
       "<BarContainer object of 3 artists>"
      ]
     },
     "execution_count": 3,
     "metadata": {},
     "output_type": "execute_result"
    },
    {
     "data": {
      "image/png": "[encoded data removed]",
      "text/plain": [
       "<Figure size 432x288 with 1 Axes>"
      ]
     },
     "metadata": {
      "needs_background": "light"
     },
     "output_type": "display_data"
    }
   ],
   "source": [
    "fig = plt.figure()\n",
    "ax = fig.add_axes([0,0,1,1])\n",
    "x = [0, 1, 2]\n",
    "y = [.2,.5,1]\n",
    "ax.bar(x,y, width = .05, color = 'red')"
   ]
  },
  {
   "cell_type": "markdown",
   "metadata": {},
   "source": [
    "# Problem 5\n",
    "***\n",
    "\n",
    "![title](3die.png)\n",
    "You are the proud new owner of a three sided die!\n",
    "\n",
    "The sides are marked '1', '2', and '3'. Let $X$ be the amount of 3's obtained after rolling the die twice.\n",
    "\n",
    "If $S$ is the sample space, then $X:S\\to\\mathbb{R}$, and $p(x_i)=P(X=x_i)=P(\\{s\\in S|X(s)=x_i\\})$"
   ]
  },
  {
   "cell_type": "markdown",
   "metadata": {},
   "source": [
    "### Part A\n",
    "***\n",
    "\n",
    "   1] ***(2 points)*** What is $X((3, 3))$?\n",
    "   \n",
    "   2] ***(2 points)*** What is $X((2, 3))$?"
   ]
  },
  {
   "cell_type": "markdown",
   "metadata": {},
   "source": [
    "***solution:*** Put your solution to part A, 1&2, here:\n",
    "\n",
    "$X((3,3)) = 2$\n",
    "\n",
    "$X((2,3)) = 1$"
   ]
  },
  {
   "cell_type": "markdown",
   "metadata": {},
   "source": [
    "### Part B\n",
    "***\n",
    "\n",
    "   1] ***(2 points)*** What is $p(2)$?\n",
    "\n",
    "   2] ***(2 points)*** What is $p(1)$?"
   ]
  },
  {
   "cell_type": "markdown",
   "metadata": {},
   "source": [
    "***solution:*** \n",
    "\n",
    "$p(2)=\\binom2 2 \\cdot\\frac{2}{3}^0\\cdot\\frac{1}{3}^2=\\frac{1}{9}$\n",
    "\n",
    "$p(1)=\\binom 2 1 \\cdot\\frac{2}{3}^1\\cdot\\frac{1}{3}^1=\\frac{4}{9}$"
   ]
  },
  {
   "cell_type": "markdown",
   "metadata": {},
   "source": [
    "### Part C\n",
    "***\n",
    "\n",
    "1] ***(2 points)*** Create a table of values for the PMF.\n",
    "\n",
    "2] ***(4 points)*** Create (code) a graph for the PMF."
   ]
  },
  {
   "cell_type": "markdown",
   "metadata": {},
   "source": [
    "***solution:*** Put your solution to part C, #1 here: \n",
    "| X   | 0    | 1     | 2    |\n",
    "|--------------|------|-------|------|\n",
    "| P(X) | 4/9 | 4/9 | 1/9 | \n"
   ]
  },
  {
   "cell_type": "code",
   "execution_count": 4,
   "metadata": {},
   "outputs": [
    {
     "data": {
      "text/plain": [
       "<BarContainer object of 3 artists>"
      ]
     },
     "execution_count": 4,
     "metadata": {},
     "output_type": "execute_result"
    },
    {
     "data": {
      "image/png": "[encoded data removed]",
      "text/plain": [
       "<Figure size 432x288 with 1 Axes>"
      ]
     },
     "metadata": {
      "needs_background": "light"
     },
     "output_type": "display_data"
    }
   ],
   "source": [
    "# code your solution to Part C #2 here:\n",
    "fig = plt.figure()\n",
    "ax = fig.add_axes([0,0,1,1])\n",
    "x = [0, 1, 2]\n",
    "y = [4/9,4/9,1/9]\n",
    "ax.bar(x,y, width = .04, color = 'red')"
   ]
  },
  {
   "cell_type": "markdown",
   "metadata": {},
   "source": [
    "### Part D\n",
    "***\n",
    "\n",
    "   1] ***(2 points)*** Create a table of values for the CDF.\n",
    "\n",
    "   2] ***(2 points)*** Create a piecewise function for the CDF.\n",
    "\n",
    "   3] ***(4 points)*** Create (code) a graph for the CDF."
   ]
  },
  {
   "cell_type": "markdown",
   "metadata": {},
   "source": [
    "***solution:*** Put your solution to Part D, #1, here:\n",
    "| X   | 0    | 1     | 2    |\n",
    "|--------------|------|-------|------|\n",
    "| P(<=X) | 4/9 | 8/9 | 9/9 | \n"
   ]
  },
  {
   "cell_type": "markdown",
   "metadata": {},
   "source": [
    "***solution:*** Put your solution to Part D, #2, here:\n",
    "\n",
    "$\n",
    "F(x) = \\begin{cases} 0, &  -\\infty<x<0 \\\\ \n",
    "\\frac{4}{9}, & 0\\leq x<1\\\\\n",
    "\\frac{8}{9}, & 1\\leq x<2\\\\\n",
    "1 , & 2\\leq x<\\infty \\end{cases} \n",
    "$"
   ]
  },
  {
   "cell_type": "code",
   "execution_count": 5,
   "metadata": {},
   "outputs": [
    {
     "data": {
      "text/plain": [
       "<BarContainer object of 3 artists>"
      ]
     },
     "execution_count": 5,
     "metadata": {},
     "output_type": "execute_result"
    },
    {
     "data": {
      "image/png": "[encoded data removed]",
      "text/plain": [
       "<Figure size 432x288 with 1 Axes>"
      ]
     },
     "metadata": {
      "needs_background": "light"
     },
     "output_type": "display_data"
    }
   ],
   "source": [
    "# Code your solution to part D, #3,  here:\n",
    "fig = plt.figure()\n",
    "ax = fig.add_axes([0,0,1,1])\n",
    "x = [0, 1, 2]\n",
    "y = [4/9,8/9, 9/9]\n",
    "ax.bar(x,y, width = .04, color = 'red')"
   ]
  },
  {
   "cell_type": "markdown",
   "metadata": {},
   "source": [
    "# Problem 6\n",
    "***\n",
    "\n",
    "### Part A\n",
    "\n",
    "We are still playing with our new three sided die and we are still considering rolling a '3' a success. Only now we are rolling the die 10 times!\n",
    "\n",
    "Suppose you actually rolled the 3-sided die ten times and counted how many times you rolled a '3'.\n",
    "\n",
    "You could get zero amount of 3's.\n",
    "\n",
    "You could roll a '3' only once.\n",
    "\n",
    "You could roll a '3' two out of ten times.\n",
    "\n",
    "You might even roll a '3' ten out of ten times!\n",
    "\n",
    "Write a $\\color{red}{\\text{function}}$ that takes in the parameters $n=10$ (for ten rolls of the 3-sided die) and $p=\\frac{1}{3}$ (for the probability of rolling a '3'). The function should $\\color{red}{\\text{return the PMF}}$ as a Numpy array.\n",
    "\n",
    "***(4 points)*** Use the function to print out the PMF as a table of values after rolling the 3-sided die 10 times.\n",
    "\n",
    "i.e. the table should show the probability of rolling zero 3's, one 3, two 3's,..., ten 3's."
   ]
  },
  {
   "cell_type": "code",
   "execution_count": 9,
   "metadata": {},
   "outputs": [
    {
     "name": "stdout",
     "output_type": "stream",
     "text": [
      "0 | 0.0173\n",
      "1 | 0.0867\n",
      "2 | 0.1951\n",
      "3 | 0.2601\n",
      "4 | 0.2276\n",
      "5 | 0.1366\n",
      "6 | 0.0569\n",
      "7 | 0.0163\n",
      "8 | 0.0030\n",
      "9 | 0.0003\n",
      "10 | 0.0000\n"
     ]
    }
   ],
   "source": [
    "# Put your code to Part A here:\n",
    "def binpmf(n,p):\n",
    "    pmf = np.array([binom(n,i)*(p**i)*((1-p)**(n-i)) for i in range(n+1)])\n",
    "    return pmf\n",
    "\n",
    "pmf = binpmf(10,(1/3))\n",
    "for i, trial in enumerate(pmf):\n",
    "    print(\"{} | {:0.4f}\".format(i,trial))"
   ]
  },
  {
   "cell_type": "markdown",
   "metadata": {},
   "source": [
    "### Part B\n",
    "\n",
    "Suppose you rolled the die ten times and wrote down how many 3's resulted.\n",
    "\n",
    "Then, you again rolled the die ten times and again wrote down how many 3's resulted.\n",
    "\n",
    "And again you roll ten times and record. And again. And again.\n",
    "\n",
    "In totality, lets say you recorded results 20 times. That is, twenty times in a row you rolled the 3-sided die 10 times and recorded the amount of 3' that appeared out of the 10 rolls.\n",
    "\n",
    "You might get 20 results like [2 2 4 4 2 4 5 2 5 2 2 4 2 1 3 1 3 2 3 3] representing 2 out of 10, 2 out of ten, 4 out of ten, etc.\n",
    "\n",
    "In order to determine how many successes (amount of 3's) TYPICALLY result when you roll this die ten times, you could look at a histogram (a distribution) of your 20 recordings. Better yet, a more accurate picture results from looking at a distribution of 100000 recordings.\n",
    "\n",
    "***(4 points)*** Create (code) a density histogram of 100000 results to get an estimation of the distribution (aka PMF)."
   ]
  },
  {
   "cell_type": "code",
   "execution_count": 19,
   "metadata": {},
   "outputs": [
    {
     "data": {
      "text/plain": [
       "(array([0.01723, 0.08747, 0.19529, 0.25897, 0.22817, 0.13506, 0.05815,\n",
       "        0.01603, 0.00324, 0.00039]),\n",
       " array([ 0.,  1.,  2.,  3.,  4.,  5.,  6.,  7.,  8.,  9., 10.]),\n",
       " <BarContainer object of 10 artists>)"
      ]
     },
     "execution_count": 19,
     "metadata": {},
     "output_type": "execute_result"
    },
    {
     "data": {
      "image/png": "[encoded data removed]",
      "text/plain": [
       "<Figure size 432x288 with 1 Axes>"
      ]
     },
     "metadata": {
      "needs_background": "light"
     },
     "output_type": "display_data"
    }
   ],
   "source": [
    "# code your answer to Part B here:\n",
    "trials = np.random.binomial(n=10, p =(1/3), size = 100000)\n",
    "bins = np.arange(0, 10.1, 1)\n",
    "x=np.array(range(11))\n",
    "\n",
    "plt.hist(trials, density=True, bins=bins, width=1)\n"
   ]
  },
  {
   "cell_type": "markdown",
   "metadata": {},
   "source": [
    "# Part C\n",
    "\n",
    "***(1 point)*** From the PMF just created, what appears to be the most common result? In other words, how many times will '3' most commonly appear after rolling a 3-sided die ten times?"
   ]
  },
  {
   "cell_type": "markdown",
   "metadata": {},
   "source": [
    "***solution:*** \n",
    "The most common result is 3."
   ]
  },
  {
   "cell_type": "markdown",
   "metadata": {},
   "source": [
    "### Rubric Check\n",
    "***\n",
    "***(5 points)*** Makesure your answers are thorough but not redundant. Explain your answers, don't just put a number. Make sure you have matched your questions on Gradescope. Make sure your PDF is correct and your LaTeX is correct. etc. etc. BE NEAT."
   ]
  },
  {
   "cell_type": "code",
   "execution_count": null,
   "metadata": {},
   "outputs": [],
   "source": []
  }
 ],
 "metadata": {
  "kernelspec": {
   "display_name": "Python 3 (ipykernel)",
   "language": "python",
   "name": "python3"
  },
  "language_info": {
   "codemirror_mode": {
    "name": "ipython",
    "version": 3
   },
   "file_extension": ".py",
   "mimetype": "text/x-python",
   "name": "python",
   "nbconvert_exporter": "python",
   "pygments_lexer": "ipython3",
   "version": "3.10.5"
  }
 },
 "nbformat": 4,
 "nbformat_minor": 4
}
