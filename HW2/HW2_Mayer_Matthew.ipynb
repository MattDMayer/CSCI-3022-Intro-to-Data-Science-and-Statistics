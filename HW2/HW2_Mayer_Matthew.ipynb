{
 "cells": [
  {
   "cell_type": "markdown",
   "metadata": {},
   "source": [
    "# Homework 02: Data Visualization and Data Wrangling \n",
    "***\n",
    "\n",
    "**Name**: Matthew Mayer\n",
    "\n",
    "***\n",
    "\n",
    "This assignment is due on Canvas by **6:00PM on Friday September 9**. Your solutions to theoretical questions should be done in Markdown directly below the associated question.  Your solutions to computational questions should include any specified Python code and results as well as written commentary on your conclusions.  Remember that you are encouraged to discuss the problems with your classmates, but **you must write all code and solutions on your own**.\n",
    "\n",
    "**NOTES**: \n",
    "\n",
    "- Any relevant data sets should be available in the Homework 01 assignment write-up on Canvas. To make life easier on the grader if they need to run your code, do not change the relative path names here. Instead, move the files around on your computer.\n",
    "- If you're not familiar with typesetting math directly into Markdown then by all means, do your work on paper first and then typeset it later.  Remember that there is a [reference guide](https://math.meta.stackexchange.com/questions/5020/mathjax-basic-tutorial-and-quick-reference) linked on Canvas on writing math in Markdown. **All** of your written commentary, justifications and mathematical work should be in Markdown.\n",
    "- Because you can technically evaluate notebook cells is a non-linear order, it's a good idea to do $\\color{red}{\\text{Kernel}}$ $\\color{red}\\rightarrow$ $\\color{red}{\\text{Restart & Run All}}$ as a check before submitting your solutions.  That way if we need to run your code you will know that it will work as expected. \n",
    "- It is **bad form** to make your reader interpret numerical output from your code.  If a question asks you to compute some value from the data you should show your code output **AND** $\\color{red}{\\text{write a summary of the results}}$ in Markdown directly below your code. \n",
    "- This probably goes without saying, but... For any question that asks you to calculate something, you **must show all work and justify your answers to receive credit**. Sparse or nonexistent work will receive sparse or nonexistent credit. \n",
    "\n",
    "---"
   ]
  },
  {
   "cell_type": "markdown",
   "metadata": {},
   "source": [
    "As always, you should import Pandas and NumPy when you start working with data."
   ]
  },
  {
   "cell_type": "code",
   "execution_count": 1,
   "metadata": {},
   "outputs": [],
   "source": [
    "# Per the standard import pandas as 'pd' and numpy as 'np'\n",
    "import pandas as pd\n",
    "import numpy as np"
   ]
  },
  {
   "cell_type": "markdown",
   "metadata": {},
   "source": [
    "In this homework you will also be creating some graphs. Therefore, lets also load Matplotlib's Pylab library to set up Jupyter so that it will plot directly in the notebook.\n",
    "\n",
    "Pylab is a convenience module that bulk imports matplotlib.pyplot (for plotting) and NumPy (for working with arrays) in a single name space."
   ]
  },
  {
   "cell_type": "code",
   "execution_count": 2,
   "metadata": {},
   "outputs": [],
   "source": [
    "import matplotlib.pylab as plt\n",
    "%matplotlib inline \n",
    "    # 'inline' puts your graph in the cell versus a new popup window"
   ]
  },
  {
   "cell_type": "markdown",
   "metadata": {},
   "source": [
    "# Problem 1\n",
    "***\n",
    "We are tasked with a consulting job for a Hotel/Vacation booking startup called $\\color{red}{\\text{Hotels Everyone Loves Leasing}}$, or HELL.com (an unfortunate marketing snaffu).\n",
    "\n",
    "In order to advise HELL.com we will need to wrangle some data and see what story it has to tell before we advise the creators of this new booking website."
   ]
  },
  {
   "cell_type": "markdown",
   "metadata": {},
   "source": [
    "# Part A\n",
    "***1] (1 point) Read in the csv file, \"hotel_bookings.csv\"***\n",
    "\n",
    "For simplicity sake, put the data file in the same folder as the Jupyter notebook file.\n",
    "\n"
   ]
  },
  {
   "cell_type": "code",
   "execution_count": 3,
   "metadata": {},
   "outputs": [],
   "source": [
    "# Call your dataframe \"Hotel\" and be sure to preface it with a \"df\".\n",
    "# Per the standard naming procedure a prefix of \"df\" indicates a dataframe.\n",
    "# Therefore, to be specific, call your dataframe \"dfHotel\"\n",
    "\n",
    "# Read in the file here for #1\n",
    "dfHotel = pd.read_csv('hotel_bookings.csv')"
   ]
  },
  {
   "cell_type": "markdown",
   "metadata": {},
   "source": [
    "***2] (1 point) Take a look at your data.***\n",
    "\n",
    "See the description of the data below to determine what each column represents.\n",
    "\n",
    "Always look at the data to determine if it needs cleaning; in reality data will nearly always need cleaned."
   ]
  },
  {
   "cell_type": "code",
   "execution_count": 4,
   "metadata": {},
   "outputs": [
    {
     "data": {
      "text/html": [
       "<div>\n",
       "<style scoped>\n",
       "    .dataframe tbody tr th:only-of-type {\n",
       "        vertical-align: middle;\n",
       "    }\n",
       "\n",
       "    .dataframe tbody tr th {\n",
       "        vertical-align: top;\n",
       "    }\n",
       "\n",
       "    .dataframe thead th {\n",
       "        text-align: right;\n",
       "    }\n",
       "</style>\n",
       "<table border=\"1\" class=\"dataframe\">\n",
       "  <thead>\n",
       "    <tr style=\"text-align: right;\">\n",
       "      <th></th>\n",
       "      <th>hotel</th>\n",
       "      <th>is_canceled</th>\n",
       "      <th>lead_time</th>\n",
       "      <th>arrival_date_week_number</th>\n",
       "      <th>arrival_date_day_of_month</th>\n",
       "      <th>stays_in_weekend_nights</th>\n",
       "      <th>stays_in_week_nights</th>\n",
       "      <th>adults</th>\n",
       "      <th>children</th>\n",
       "      <th>distribution_channel</th>\n",
       "      <th>is_repeated_guest</th>\n",
       "      <th>agent</th>\n",
       "      <th>adr</th>\n",
       "      <th>total_of_special_requests</th>\n",
       "    </tr>\n",
       "  </thead>\n",
       "  <tbody>\n",
       "    <tr>\n",
       "      <th>0</th>\n",
       "      <td>Resort Hotel</td>\n",
       "      <td>0</td>\n",
       "      <td>342</td>\n",
       "      <td>27</td>\n",
       "      <td>1</td>\n",
       "      <td>0</td>\n",
       "      <td>0</td>\n",
       "      <td>2</td>\n",
       "      <td>0.0</td>\n",
       "      <td>Direct</td>\n",
       "      <td>0</td>\n",
       "      <td>NaN</td>\n",
       "      <td>0.0</td>\n",
       "      <td>0</td>\n",
       "    </tr>\n",
       "    <tr>\n",
       "      <th>1</th>\n",
       "      <td>Resort Hotel</td>\n",
       "      <td>0</td>\n",
       "      <td>737</td>\n",
       "      <td>27</td>\n",
       "      <td>1</td>\n",
       "      <td>0</td>\n",
       "      <td>0</td>\n",
       "      <td>2</td>\n",
       "      <td>0.0</td>\n",
       "      <td>Direct</td>\n",
       "      <td>0</td>\n",
       "      <td>NaN</td>\n",
       "      <td>0.0</td>\n",
       "      <td>0</td>\n",
       "    </tr>\n",
       "    <tr>\n",
       "      <th>2</th>\n",
       "      <td>Resort Hotel</td>\n",
       "      <td>0</td>\n",
       "      <td>7</td>\n",
       "      <td>27</td>\n",
       "      <td>1</td>\n",
       "      <td>0</td>\n",
       "      <td>1</td>\n",
       "      <td>1</td>\n",
       "      <td>0.0</td>\n",
       "      <td>Direct</td>\n",
       "      <td>0</td>\n",
       "      <td>NaN</td>\n",
       "      <td>75.0</td>\n",
       "      <td>0</td>\n",
       "    </tr>\n",
       "    <tr>\n",
       "      <th>3</th>\n",
       "      <td>Resort Hotel</td>\n",
       "      <td>0</td>\n",
       "      <td>13</td>\n",
       "      <td>27</td>\n",
       "      <td>1</td>\n",
       "      <td>0</td>\n",
       "      <td>1</td>\n",
       "      <td>1</td>\n",
       "      <td>0.0</td>\n",
       "      <td>Corporate</td>\n",
       "      <td>0</td>\n",
       "      <td>304.0</td>\n",
       "      <td>75.0</td>\n",
       "      <td>0</td>\n",
       "    </tr>\n",
       "    <tr>\n",
       "      <th>4</th>\n",
       "      <td>Resort Hotel</td>\n",
       "      <td>0</td>\n",
       "      <td>14</td>\n",
       "      <td>27</td>\n",
       "      <td>1</td>\n",
       "      <td>0</td>\n",
       "      <td>2</td>\n",
       "      <td>2</td>\n",
       "      <td>0.0</td>\n",
       "      <td>TA/TO</td>\n",
       "      <td>0</td>\n",
       "      <td>240.0</td>\n",
       "      <td>98.0</td>\n",
       "      <td>1</td>\n",
       "    </tr>\n",
       "  </tbody>\n",
       "</table>\n",
       "</div>"
      ],
      "text/plain": [
       "          hotel  is_canceled  lead_time  arrival_date_week_number  \\\n",
       "0  Resort Hotel            0        342                        27   \n",
       "1  Resort Hotel            0        737                        27   \n",
       "2  Resort Hotel            0          7                        27   \n",
       "3  Resort Hotel            0         13                        27   \n",
       "4  Resort Hotel            0         14                        27   \n",
       "\n",
       "   arrival_date_day_of_month  stays_in_weekend_nights  stays_in_week_nights  \\\n",
       "0                          1                        0                     0   \n",
       "1                          1                        0                     0   \n",
       "2                          1                        0                     1   \n",
       "3                          1                        0                     1   \n",
       "4                          1                        0                     2   \n",
       "\n",
       "   adults  children distribution_channel  is_repeated_guest  agent   adr  \\\n",
       "0       2       0.0               Direct                  0    NaN   0.0   \n",
       "1       2       0.0               Direct                  0    NaN   0.0   \n",
       "2       1       0.0               Direct                  0    NaN  75.0   \n",
       "3       1       0.0            Corporate                  0  304.0  75.0   \n",
       "4       2       0.0                TA/TO                  0  240.0  98.0   \n",
       "\n",
       "   total_of_special_requests  \n",
       "0                          0  \n",
       "1                          0  \n",
       "2                          0  \n",
       "3                          0  \n",
       "4                          1  "
      ]
     },
     "execution_count": 4,
     "metadata": {},
     "output_type": "execute_result"
    }
   ],
   "source": [
    "# code here for part A, #2 to see all/partial dataframe\n",
    "dfHotel.head()"
   ]
  },
  {
   "cell_type": "markdown",
   "metadata": {},
   "source": [
    "# Description of this data set\n",
    "The data set looks as if it has alreaded been 'cleaned'.\n",
    "\n",
    "**hotel**: This column lists the types of hotels that were booked.\n",
    "\n",
    "**is_cancelled**: This column indicates whether or not the booking was cancelled (1) or not (0).\n",
    "\n",
    "**lead_time**: This column is the number of days that elapsed between the entering date of the booking into the PMS and the arrival date.\n",
    "\n",
    "**arrival_date_week_number**: Week number of the year for arrival\n",
    "\n",
    "**arrival_date_day_of_month**: Day of arrival date.\n",
    "\n",
    "**stays_in_weekend_nights**: Number of weekend nights (Saturday or Sunday) the guest stayed or booked to stay at the hotel\n",
    "\n",
    "**stays_in_week_nights**: Number of week nights (Monday to Friday) the guest stayed or booked to stay at the hotel\n",
    "\n",
    "**adults**: number of adults\n",
    "\n",
    "**children**: number of children\n",
    "\n",
    "**distribution_channel**: Booking distribution channel. The term “TA” means “Travel Agents” and “TO” means “Tour Operators”\n",
    "\n",
    "**is_repeated guest**: Value indicating if the booking name was from a repeated guest (1) or not (0)\n",
    "\n",
    "**agent**: ID of the travel agency that made the booking\n",
    "\n",
    "**adr**: Average Daily Rate as defined by dividing the sum of all lodging transactions by the total number of staying nights\n",
    "\n",
    "**total_of_special_requests**: Number of special requests made by the customer (e.g. twin bed or high floor)"
   ]
  },
  {
   "cell_type": "markdown",
   "metadata": {},
   "source": [
    "# Part B\n",
    "***"
   ]
  },
  {
   "cell_type": "markdown",
   "metadata": {},
   "source": [
    "***1] (1 points) Which week-number of the year is the most common arrival week?***\n",
    "\n",
    "You can use `dfHotel.mode()` to find the mode for $\\color{red}{\\text{all columns}}$, and you can also use `dfHotel[\"arrival_date_week_number\"].mode()` to find the mode of $\\color{red}{\\text{just one column}}$, i.e. 'arrival_date_week_number'.\n",
    "\n",
    "However, when you use the latter, the return will be an index of 0 and then the mode you seek. https://pandas.pydata.org/docs/reference/api/pandas.DataFrame.mode.html\n"
   ]
  },
  {
   "cell_type": "code",
   "execution_count": 5,
   "metadata": {},
   "outputs": [
    {
     "name": "stdout",
     "output_type": "stream",
     "text": [
      "0    33\n",
      "Name: arrival_date_week_number, dtype: int64\n"
     ]
    }
   ],
   "source": [
    "# Code your solution to part B #1 here:\n",
    "print(dfHotel[\"arrival_date_week_number\"].mode())"
   ]
  },
  {
   "cell_type": "markdown",
   "metadata": {},
   "source": [
    "***2] (1 points) What is more popular, weekend nights or week nights, that the guest stayed or booked to stay at the hotel.***"
   ]
  },
  {
   "cell_type": "code",
   "execution_count": 6,
   "metadata": {},
   "outputs": [
    {
     "name": "stdout",
     "output_type": "stream",
     "text": [
      "Weekdays are more popular bookings than weekends.\n"
     ]
    }
   ],
   "source": [
    "# Code your solution to part B #2 here\n",
    "weekday = (dfHotel[\"stays_in_week_nights\"].sum())\n",
    "weekend = (dfHotel[\"stays_in_weekend_nights\"].sum())\n",
    "if (weekday>weekend):\n",
    "    print (\"Weekdays are more popular bookings than weekends.\")\n",
    "else:\n",
    "    print(\"Weekends are more popular bookings than weekdays.\")"
   ]
  },
  {
   "cell_type": "markdown",
   "metadata": {},
   "source": [
    "***3] (1 points) How many rows are in this data set?***\n"
   ]
  },
  {
   "cell_type": "code",
   "execution_count": 7,
   "metadata": {},
   "outputs": [
    {
     "name": "stdout",
     "output_type": "stream",
     "text": [
      "119390\n"
     ]
    }
   ],
   "source": [
    "# Code Part B #3 solution here (advice: use `len`)\n",
    "print(len(dfHotel))"
   ]
  },
  {
   "cell_type": "markdown",
   "metadata": {},
   "source": [
    "***4] (1 points) How many types of hotels do we have information on?***\n"
   ]
  },
  {
   "cell_type": "code",
   "execution_count": 8,
   "metadata": {},
   "outputs": [
    {
     "name": "stdout",
     "output_type": "stream",
     "text": [
      "['Resort Hotel' 'City Hotel']\n",
      "2\n"
     ]
    }
   ],
   "source": [
    "# Code Part B #4 solution here (advice: use `set` and/or `len`)\n",
    "print(dfHotel['hotel'].unique())\n",
    "print(len(dfHotel['hotel'].unique()))"
   ]
  },
  {
   "cell_type": "markdown",
   "metadata": {},
   "source": [
    "***5] (1 points) Which type of hotel has more cancellations?***"
   ]
  },
  {
   "cell_type": "code",
   "execution_count": 9,
   "metadata": {},
   "outputs": [
    {
     "name": "stdout",
     "output_type": "stream",
     "text": [
      "11122\n",
      "33102\n",
      "City hotels had more cancellations.\n"
     ]
    }
   ],
   "source": [
    "# Code Part B #5 solution here:\n",
    "resort = dfHotel.loc[dfHotel['hotel']=='Resort Hotel', 'is_canceled'].sum()\n",
    "print(resort)\n",
    "city = dfHotel.loc[dfHotel['hotel']=='City Hotel', 'is_canceled'].sum()\n",
    "print(city)\n",
    "if (resort>city):\n",
    "    print (\"Resort hotels had more cancellations.\")\n",
    "else:\n",
    "    print (\"City hotels had more cancellations.\")"
   ]
  },
  {
   "cell_type": "markdown",
   "metadata": {},
   "source": [
    "# Part C\n",
    "***"
   ]
  },
  {
   "cell_type": "markdown",
   "metadata": {},
   "source": [
    "'Hotels Everyone Loves Leasing' would now like some information about customer arrival dates.\n",
    "\n",
    "***1] (3 points) Create a $\\color{red}{\\text{density}}$ histogram for `arrival_date_day_of_month` ***\n",
    "\n",
    "*** Comment on the histogram shape (Right/Left skew, symmetric, uniform,...)***\n",
    "\n",
    "***What would you tell your advisees about the most common day of arrival?***\n"
   ]
  },
  {
   "cell_type": "code",
   "execution_count": 10,
   "metadata": {},
   "outputs": [
    {
     "data": {
      "text/plain": [
       "Text(0.5, 1.0, 'Arrival Date by Day of Month')"
      ]
     },
     "execution_count": 10,
     "metadata": {},
     "output_type": "execute_result"
    },
    {
     "data": {
      "image/png": "[encoded data removed]",
      "text/plain": [
       "<Figure size 576x288 with 1 Axes>"
      ]
     },
     "metadata": {
      "needs_background": "light"
     },
     "output_type": "display_data"
    }
   ],
   "source": [
    "# Code Part C #1 here\n",
    "fig, ax = plt.subplots(figsize=(8,4))\n",
    "my_bins = range(1,32,1)\n",
    "# Plot histogram \n",
    "\n",
    "\n",
    "# Add axis labels \n",
    "ax.set_xlabel(\"Day of Month\", fontsize=16)\n",
    "ax.set_ylabel(\"Density\", fontsize=16)\n",
    "\n",
    "dfHotel.hist(column=\"arrival_date_day_of_month\", ax=ax, bins=my_bins, density=True);\n",
    "ax.set_title(\"Arrival Date by Day of Month\", fontsize=20)"
   ]
  },
  {
   "cell_type": "markdown",
   "metadata": {},
   "source": [
    "***Comment on histogram shape and advice in this cell.***\n",
    "\n",
    "ANS: I would call this histogram either unifrom or left skewed. Every day except for the 31st is relitivly flat so that makes me want to call it uniform but the 31st is an extreme point that could make the graph more left skewed."
   ]
  },
  {
   "cell_type": "markdown",
   "metadata": {},
   "source": [
    "***2] (8 points) Give a 5-number summary and box-and-whisker plot for the week number of year for arrival date and advise on what you find.*** "
   ]
  },
  {
   "cell_type": "code",
   "execution_count": 11,
   "metadata": {},
   "outputs": [
    {
     "name": "stdout",
     "output_type": "stream",
     "text": [
      "5-Number Summary: 1.00    16.00    28.00    38.00    53.00\n"
     ]
    }
   ],
   "source": [
    "# put your code for Part C, #2 (5-number summary) in this cell\n",
    "\n",
    "minval = (dfHotel[\"arrival_date_week_number\"]).min()\n",
    "maxval = (dfHotel[\"arrival_date_week_number\"]).max()\n",
    "Q1 = (dfHotel[\"arrival_date_week_number\"]).quantile(0.25)\n",
    "Q2 = (dfHotel[\"arrival_date_week_number\"]).quantile(0.5)\n",
    "Q3 = (dfHotel[\"arrival_date_week_number\"]).quantile(0.75) \n",
    "print(\"5-Number Summary: {:.2f}    {:.2f}    {:.2f}    {:.2f}    {:.2f}\".format(minval, Q1, Q2, Q3, maxval))"
   ]
  },
  {
   "cell_type": "code",
   "execution_count": 12,
   "metadata": {},
   "outputs": [
    {
     "data": {
      "image/png": "[encoded data removed]",
      "text/plain": [
       "<Figure size 432x432 with 1 Axes>"
      ]
     },
     "metadata": {
      "needs_background": "light"
     },
     "output_type": "display_data"
    }
   ],
   "source": [
    "# put your code for Part C, #2 (box-and-whisker plot) in this cell\n",
    "# Initialize figure \n",
    "fig, ax = plt.subplots(figsize=(6,6))\n",
    "\n",
    "# Plot histogram, but this time return dictionary of style parameters for modification after the fact \n",
    "bp = dfHotel.boxplot(column=\"arrival_date_week_number\", ax=ax, widths=[.1], return_type='dict');\n",
    "\n",
    "# ---------------------------------------\n",
    "# Set properties of various parts of plot \n",
    "# ---------------------------------------\n",
    "\n",
    "# Change properties of boxes \n",
    "for box in bp['boxes']:\n",
    "    box.set(color='steelblue', linewidth=2)\n",
    "    \n",
    "# Change properties of whiskers \n",
    "for whisker in bp['whiskers']:\n",
    "    whisker.set(color='gray', linewidth=2)\n",
    "    \n",
    "# Change properties of caps \n",
    "for cap in bp['caps']:\n",
    "    cap.set(color='gray', linewidth=2)\n",
    "    \n",
    "# Change properties of median \n",
    "for cap in bp['medians']:\n",
    "    cap.set(color='green', linewidth=2, alpha=0.5)\n",
    "    \n",
    "# Change properties of fliers (outliers) \n",
    "for flier in bp['fliers']:\n",
    "    flier.set(markerfacecolor='steelblue', linewidth=2, marker='s', markersize=6, alpha=0.5)\n",
    "\n",
    "# Set title and vertical axis label\n",
    "ax.set_title('Week number of Year Arrival Date Boxplot', fontsize=18)\n",
    "ax.set_ylabel(\"Week Number of the Year\", fontsize=16)\n",
    "\n",
    "# Make grid-lines lighter\n",
    "ax.grid(alpha=0.25)"
   ]
  },
  {
   "cell_type": "markdown",
   "metadata": {},
   "source": [
    "***Put your advice for week number of year for arrival date here.***\n",
    "\n",
    "ANS: It seems that there isn't a super big change throughout the year, but that most guests book during the middle of the year / second third of the year. So it would maybe be wize to change prices or make planning for more guests during those times."
   ]
  },
  {
   "cell_type": "markdown",
   "metadata": {},
   "source": [
    "# Part D\n",
    "***"
   ]
  },
  {
   "cell_type": "markdown",
   "metadata": {},
   "source": [
    "Now it is requested that you describe your findings concerning the lead time for hotel reservations.\n",
    "\n",
    "***1] (2 points) Create a $\\color{red}{\\text{frequency}}$ histogram of `lead_time`***"
   ]
  },
  {
   "cell_type": "code",
   "execution_count": 13,
   "metadata": {},
   "outputs": [
    {
     "data": {
      "text/plain": [
       "Text(0.5, 1.0, 'Lead time Histogram')"
      ]
     },
     "execution_count": 13,
     "metadata": {},
     "output_type": "execute_result"
    },
    {
     "data": {
      "image/png": "[encoded data removed]",
      "text/plain": [
       "<Figure size 576x288 with 1 Axes>"
      ]
     },
     "metadata": {
      "needs_background": "light"
     },
     "output_type": "display_data"
    }
   ],
   "source": [
    "# Code here for your answer to Part D, #1\n",
    "fig, ax = plt.subplots(figsize=(8,4))\n",
    "# Plot histogram \n",
    "\n",
    "\n",
    "# Add axis labels \n",
    "ax.set_xlabel(\"Lead Time\", fontsize=16)\n",
    "ax.set_ylabel(\"Number of bookings within the lead time frame\", fontsize=16)\n",
    "\n",
    "dfHotel.hist(column=\"lead_time\", ax=ax);\n",
    "ax.set_title(\"Lead time Histogram\", fontsize=20)"
   ]
  },
  {
   "cell_type": "markdown",
   "metadata": {},
   "source": [
    "***2] (2 points) What shape is the histogram; right skew, left skew, symmetric, uniform,... and what does the histogram shape indicate about the number of days that elapsed between the entering date of the booking into the PMS and the arrival date.?***\n"
   ]
  },
  {
   "cell_type": "markdown",
   "metadata": {},
   "source": [
    "Answer to Part D #2 here: \n",
    "This graph is very heavily right skewed and that indicates that the more lead time there is, the less people are planning that far ahead."
   ]
  },
  {
   "cell_type": "markdown",
   "metadata": {},
   "source": [
    "***3] (2 points) What is the average (mean) lead time for all hotels?***"
   ]
  },
  {
   "cell_type": "code",
   "execution_count": 14,
   "metadata": {},
   "outputs": [
    {
     "data": {
      "text/plain": [
       "104.01141636652986"
      ]
     },
     "execution_count": 14,
     "metadata": {},
     "output_type": "execute_result"
    }
   ],
   "source": [
    "# Code your answer for Part D #3 here.\n",
    "(dfHotel[\"lead_time\"]).mean()"
   ]
  },
  {
   "cell_type": "markdown",
   "metadata": {},
   "source": [
    "# Problem 2\n",
    "***\n",
    "\n",
    "For Problem 2 we are looking at the data from a study investigating school childrens intelligence. The data consists of 1500 participants and some of their data."
   ]
  },
  {
   "cell_type": "markdown",
   "metadata": {},
   "source": [
    "# Part A\n",
    "\n",
    "***1] (1 point) Read in the csv file, \"foot_smart.csv\".***\n",
    "\n",
    "Create a data frame called FootIQ and take a look at it."
   ]
  },
  {
   "cell_type": "code",
   "execution_count": 15,
   "metadata": {},
   "outputs": [
    {
     "data": {
      "text/html": [
       "<div>\n",
       "<style scoped>\n",
       "    .dataframe tbody tr th:only-of-type {\n",
       "        vertical-align: middle;\n",
       "    }\n",
       "\n",
       "    .dataframe tbody tr th {\n",
       "        vertical-align: top;\n",
       "    }\n",
       "\n",
       "    .dataframe thead th {\n",
       "        text-align: right;\n",
       "    }\n",
       "</style>\n",
       "<table border=\"1\" class=\"dataframe\">\n",
       "  <thead>\n",
       "    <tr style=\"text-align: right;\">\n",
       "      <th></th>\n",
       "      <th>foot_length</th>\n",
       "      <th>shoe_size</th>\n",
       "      <th>sex</th>\n",
       "      <th>IQ</th>\n",
       "      <th>US_section</th>\n",
       "      <th>city_size</th>\n",
       "    </tr>\n",
       "  </thead>\n",
       "  <tbody>\n",
       "    <tr>\n",
       "      <th>0</th>\n",
       "      <td>7.96</td>\n",
       "      <td>8</td>\n",
       "      <td>0</td>\n",
       "      <td>23.8</td>\n",
       "      <td>West</td>\n",
       "      <td>500K</td>\n",
       "    </tr>\n",
       "    <tr>\n",
       "      <th>1</th>\n",
       "      <td>6.76</td>\n",
       "      <td>7</td>\n",
       "      <td>0</td>\n",
       "      <td>21.3</td>\n",
       "      <td>West</td>\n",
       "      <td>500K</td>\n",
       "    </tr>\n",
       "    <tr>\n",
       "      <th>2</th>\n",
       "      <td>6.96</td>\n",
       "      <td>7</td>\n",
       "      <td>1</td>\n",
       "      <td>22.2</td>\n",
       "      <td>East</td>\n",
       "      <td>500K</td>\n",
       "    </tr>\n",
       "    <tr>\n",
       "      <th>3</th>\n",
       "      <td>7.86</td>\n",
       "      <td>8</td>\n",
       "      <td>1</td>\n",
       "      <td>25.3</td>\n",
       "      <td>East</td>\n",
       "      <td>100K</td>\n",
       "    </tr>\n",
       "    <tr>\n",
       "      <th>4</th>\n",
       "      <td>8.17</td>\n",
       "      <td>9</td>\n",
       "      <td>0</td>\n",
       "      <td>23.9</td>\n",
       "      <td>East</td>\n",
       "      <td>100K</td>\n",
       "    </tr>\n",
       "  </tbody>\n",
       "</table>\n",
       "</div>"
      ],
      "text/plain": [
       "   foot_length  shoe_size  sex    IQ US_section city_size\n",
       "0         7.96          8    0  23.8       West      500K\n",
       "1         6.76          7    0  21.3       West      500K\n",
       "2         6.96          7    1  22.2       East      500K\n",
       "3         7.86          8    1  25.3       East      100K\n",
       "4         8.17          9    0  23.9       East      100K"
      ]
     },
     "execution_count": 15,
     "metadata": {},
     "output_type": "execute_result"
    }
   ],
   "source": [
    "# Read in the file and look at it here:\n",
    "dfFootIQ= pd.read_csv('foot_smart.csv')\n",
    "dfFootIQ.head()"
   ]
  },
  {
   "cell_type": "markdown",
   "metadata": {},
   "source": [
    "# Description of this data Set\n",
    "\n",
    "This is a data set of 1500 participants. The participants are all children from 7 different schools. \n",
    "\n",
    "***foot_length:*** This is the length of the students foot in inches.\n",
    "\n",
    "***shoe_size:*** This is the size of the shoe worn by the student.\n",
    "\n",
    "***sex:*** This is the sex of the student: 0 female, 1 male.\n",
    "\n",
    "***IQ:*** This is a measure of intelligence as measured on a standard exam, scaled from 0 to 35.\n",
    "\n",
    "***US_section:*** This is the section of the U.S. that the student comes from.\n",
    "\n",
    "***city_size:*** This is the approximate size of the city (in thousands) from which the student came from."
   ]
  },
  {
   "cell_type": "markdown",
   "metadata": {},
   "source": [
    "***2] (4 points) Clean the data***\n",
    "\n",
    "Notice that `city_size` has data entered as '100K' for 100,000 and 1M for 1,000,000.\n",
    "\n",
    "Clean this column so that it holds integers such as 100000 and 1000000 instead of 100K and 1M. "
   ]
  },
  {
   "cell_type": "code",
   "execution_count": 16,
   "metadata": {},
   "outputs": [],
   "source": [
    "#Code here for #2 and cleaning the data\n",
    "dfFootIQ[\"city_size\"]=dfFootIQ[\"city_size\"].replace({\"K\":\"*1e3\", \"M\":\"*1e6\"}, regex = True).map(pd.eval).astype(int)"
   ]
  },
  {
   "cell_type": "code",
   "execution_count": 17,
   "metadata": {},
   "outputs": [
    {
     "data": {
      "text/html": [
       "<div>\n",
       "<style scoped>\n",
       "    .dataframe tbody tr th:only-of-type {\n",
       "        vertical-align: middle;\n",
       "    }\n",
       "\n",
       "    .dataframe tbody tr th {\n",
       "        vertical-align: top;\n",
       "    }\n",
       "\n",
       "    .dataframe thead th {\n",
       "        text-align: right;\n",
       "    }\n",
       "</style>\n",
       "<table border=\"1\" class=\"dataframe\">\n",
       "  <thead>\n",
       "    <tr style=\"text-align: right;\">\n",
       "      <th></th>\n",
       "      <th>foot_length</th>\n",
       "      <th>shoe_size</th>\n",
       "      <th>sex</th>\n",
       "      <th>IQ</th>\n",
       "      <th>US_section</th>\n",
       "      <th>city_size</th>\n",
       "    </tr>\n",
       "  </thead>\n",
       "  <tbody>\n",
       "    <tr>\n",
       "      <th>0</th>\n",
       "      <td>7.96</td>\n",
       "      <td>8</td>\n",
       "      <td>0</td>\n",
       "      <td>23.8</td>\n",
       "      <td>West</td>\n",
       "      <td>500000</td>\n",
       "    </tr>\n",
       "    <tr>\n",
       "      <th>1</th>\n",
       "      <td>6.76</td>\n",
       "      <td>7</td>\n",
       "      <td>0</td>\n",
       "      <td>21.3</td>\n",
       "      <td>West</td>\n",
       "      <td>500000</td>\n",
       "    </tr>\n",
       "    <tr>\n",
       "      <th>2</th>\n",
       "      <td>6.96</td>\n",
       "      <td>7</td>\n",
       "      <td>1</td>\n",
       "      <td>22.2</td>\n",
       "      <td>East</td>\n",
       "      <td>500000</td>\n",
       "    </tr>\n",
       "    <tr>\n",
       "      <th>3</th>\n",
       "      <td>7.86</td>\n",
       "      <td>8</td>\n",
       "      <td>1</td>\n",
       "      <td>25.3</td>\n",
       "      <td>East</td>\n",
       "      <td>100000</td>\n",
       "    </tr>\n",
       "    <tr>\n",
       "      <th>4</th>\n",
       "      <td>8.17</td>\n",
       "      <td>9</td>\n",
       "      <td>0</td>\n",
       "      <td>23.9</td>\n",
       "      <td>East</td>\n",
       "      <td>100000</td>\n",
       "    </tr>\n",
       "  </tbody>\n",
       "</table>\n",
       "</div>"
      ],
      "text/plain": [
       "   foot_length  shoe_size  sex    IQ US_section  city_size\n",
       "0         7.96          8    0  23.8       West     500000\n",
       "1         6.76          7    0  21.3       West     500000\n",
       "2         6.96          7    1  22.2       East     500000\n",
       "3         7.86          8    1  25.3       East     100000\n",
       "4         8.17          9    0  23.9       East     100000"
      ]
     },
     "execution_count": 17,
     "metadata": {},
     "output_type": "execute_result"
    }
   ],
   "source": [
    "dfFootIQ.head()"
   ]
  },
  {
   "cell_type": "markdown",
   "metadata": {},
   "source": [
    "# Part B\n",
    "***"
   ]
  },
  {
   "cell_type": "markdown",
   "metadata": {},
   "source": [
    "***Suppose we were to make a scatterplot for foot length and city size (`foot_length` and `city_size`).***\n",
    "\n",
    "***Note (i)*** The scatter plot has discrete values on the y-axis which makes the 'scatter plot' look like lines.\n",
    "\n",
    "***Note (ii)*** There is no discernible pattern. The city's of various sizes (on the y-axis) contain students with shoe sizes (on the x-axis) all across the shoe-size spectrum. Meaning students of a particular shoe size do not tend to congregate in citys  of a particular size.\n",
    "\n",
    "This seems to be common sense; for instance, there is no reason why every student of shoe size 7 would come from a city of size 500,000."
   ]
  },
  {
   "cell_type": "code",
   "execution_count": 18,
   "metadata": {},
   "outputs": [
    {
     "data": {
      "image/png": "[encoded data removed]",
      "text/plain": [
       "<Figure size 432x288 with 1 Axes>"
      ]
     },
     "metadata": {
      "needs_background": "light"
     },
     "output_type": "display_data"
    }
   ],
   "source": [
    "# Uncomment the code below and run it.\n",
    "ax1 = dfFootIQ.plot.scatter(x=['foot_length'], y=['city_size'])"
   ]
  },
  {
   "cell_type": "markdown",
   "metadata": {},
   "source": [
    "***Make two scatterplots:***\n",
    "\n",
    "   1] ***(2 points)*** A scatterplot for shoe_size and IQ\n",
    "\n",
    "   2] ***(2 points)*** A scatterplot for foot_length and IQ\n",
    "\n",
    "Note: these two scatterplots should reveal the same thing since shoe size and foot lenght are really the same thing. The scatterplots will look different though since shoe size is discrete and foot length is continuous.\n",
    "\n",
    "3] ***(1 point)*** Explain your findings. Either explain why no pattern is found, or if you detect a pattern, then explain why such a pattern exists between shoe size and intelligence."
   ]
  },
  {
   "cell_type": "code",
   "execution_count": 19,
   "metadata": {},
   "outputs": [
    {
     "data": {
      "image/png": "[encoded data removed]",
      "text/plain": [
       "<Figure size 432x288 with 1 Axes>"
      ]
     },
     "metadata": {
      "needs_background": "light"
     },
     "output_type": "display_data"
    },
    {
     "data": {
      "image/png": "[encoded data removed]",
      "text/plain": [
       "<Figure size 432x288 with 1 Axes>"
      ]
     },
     "metadata": {
      "needs_background": "light"
     },
     "output_type": "display_data"
    }
   ],
   "source": [
    "# Code your scatterplots for Part B here\n",
    "plot = dfFootIQ.plot.scatter(x=['shoe_size'], y=['IQ'])\n",
    "plot1 = dfFootIQ.plot.scatter(x=['foot_length'], y=['IQ'])"
   ]
  },
  {
   "cell_type": "markdown",
   "metadata": {},
   "source": [
    "***Explain your scatterplot findings for Part B here:***\n",
    "It appears that there is a direct pattern between shoe size and IQ. But this actually results from the child's growth, since as a child grows their shoe size/foot length will increase with their intelligence. This does not imply that bigger shoe/foot size causes higher IQ."
   ]
  },
  {
   "cell_type": "markdown",
   "metadata": {},
   "source": [
    "# Problem 3\n",
    "***"
   ]
  },
  {
   "cell_type": "markdown",
   "metadata": {},
   "source": [
    "# Part A\n",
    "The mean of a set of data should of course change if/when the values in the data set change.\n",
    "\n",
    "The code in the cell below finds the mean shoe size for the dfFootIQ data\n"
   ]
  },
  {
   "cell_type": "code",
   "execution_count": 20,
   "metadata": {},
   "outputs": [
    {
     "name": "stdout",
     "output_type": "stream",
     "text": [
      "The mean shoe size is  7.556666666666667\n"
     ]
    }
   ],
   "source": [
    "# Uncomment the code below and run it\n",
    "print(\"The mean shoe size is \", (dfFootIQ[\"shoe_size\"]).mean())"
   ]
  },
  {
   "cell_type": "markdown",
   "metadata": {},
   "source": [
    "Now, suppose you add 2 to each shoe size in the data set. How will the mean change?"
   ]
  },
  {
   "cell_type": "code",
   "execution_count": 26,
   "metadata": {},
   "outputs": [
    {
     "name": "stdout",
     "output_type": "stream",
     "text": [
      "The mean shoe size with 2 added to each entry is  9.556666666666667\n"
     ]
    }
   ],
   "source": [
    "# Uncomment the code below and run it.\n",
    "print(\"The mean shoe size with 2 added to each entry is \", (dfFootIQ[\"shoe_size\"]+2).mean())"
   ]
  },
  {
   "cell_type": "markdown",
   "metadata": {},
   "source": [
    "***(4 points)*** It appears that the mean simply increases by 2. Does adding 'a' to each data point simply increase the mean by 'a'? ***Prove it.***\n",
    "\n",
    "Recall the formula for mean:\n",
    "\n",
    "$$\\bar{x} = \\frac{1}{n} \\displaystyle\\sum_{k=1}^n x_k$$\n"
   ]
  },
  {
   "cell_type": "markdown",
   "metadata": {},
   "source": [
    "$$\\bar{x} = \\frac{1}{n} \\displaystyle\\sum_{k=1}^n x_k$$\n",
    "\n",
    "$$\\bar{x} +a = \\frac{1}{n} \\displaystyle\\sum_{k=1}^n (x_k+ a)$$\n",
    "\n",
    "$$\\bar{x} +a = \\frac{1}{n} \\displaystyle\\sum_{k=1}^n (x_k) + \\frac{1}{n}\\sum_{k=1}^n (a)$$\n",
    "\n",
    "$$\\bar{x} +a =  \\bar{x} + \\frac{a\\cdot n}{n}$$\n",
    "\n",
    "$$\\bar{x} +a = \\bar{x} + a$$\n",
    "\n",
    "$$\\text{Thus the mean has its value added to when each value is added to by direct proof}$$"
   ]
  },
  {
   "cell_type": "markdown",
   "metadata": {},
   "source": [
    "# Part B\n",
    "The standard deviation of a set of data should of course change if/when the values in the data set change.\n",
    "\n",
    "The code in the cell below finds the standard deviation for 'shoe size' in the dfFootIQ data."
   ]
  },
  {
   "cell_type": "code",
   "execution_count": 27,
   "metadata": {},
   "outputs": [
    {
     "name": "stdout",
     "output_type": "stream",
     "text": [
      "Standard deviation for shoe size is  1.224113771362388\n"
     ]
    }
   ],
   "source": [
    "# Uncomment the code below and run it.\n",
    "print(\"Standard deviation for shoe size is \", (dfFootIQ[\"shoe_size\"]).std())"
   ]
  },
  {
   "cell_type": "markdown",
   "metadata": {},
   "source": [
    "Now, suppose we add 2 to each shoe sizein the data set. How will the standard deviation change?"
   ]
  },
  {
   "cell_type": "code",
   "execution_count": 28,
   "metadata": {},
   "outputs": [
    {
     "name": "stdout",
     "output_type": "stream",
     "text": [
      "The standard deviation with 2 added to each entry is  1.224113771362388\n"
     ]
    }
   ],
   "source": [
    "# Uncomment the code below and run it.\n",
    "print(\"The standard deviation with 2 added to each entry is \", (dfFootIQ[\"shoe_size\"]+2).std())\n"
   ]
  },
  {
   "cell_type": "markdown",
   "metadata": {},
   "source": [
    "***(4 points)*** It appears as if the standard deviation doesn't change at all after the addition of 2 to each data point. Is it always true that adding 'a' to each data point does not change the standard deviation? ***Prove it.***\n",
    "\n",
    "Recall the formula for standard deviation:\n",
    "\n",
    "$$s = \\sqrt{\\frac{1}{n-1} \\sum_{k=1}^n \\left( x_k - \\bar{x}\\right)^2} $$\n"
   ]
  },
  {
   "cell_type": "markdown",
   "metadata": {},
   "source": [
    "$$s = \\sqrt{\\frac{1}{n-1} \\sum_{k=1}^n \\left( x_k - \\bar{x}\\right)^2} $$\n",
    "\n",
    "$$\\text{As shown in the last step adding a to each value means that } \\bar{x} \\text{ becomes } (\\bar{x}+a)\\text{ so:}$$\n",
    "\n",
    "$$s = \\sqrt{\\frac{1}{n-1} \\sum_{k=1}^n \\left( (x_k+a) - (\\bar{x}+a)\\right)^2} $$\n",
    "\n",
    "$$\\text{These two a variables cancel out in the subtraction giving us:}$$\n",
    "\n",
    "$$s = \\sqrt{\\frac{1}{n-1} \\sum_{k=1}^n \\left( x_k - \\bar{x}\\right)^2} $$\n",
    "\n",
    "$$\\text{Thus adding a to each value doesn't change the standard deviation by direct proof}$$"
   ]
  },
  {
   "cell_type": "markdown",
   "metadata": {},
   "source": [
    "# Part C\n",
    "Suppose each data point in `shoe_size` were to be multiplied by 5."
   ]
  },
  {
   "cell_type": "code",
   "execution_count": 29,
   "metadata": {},
   "outputs": [
    {
     "name": "stdout",
     "output_type": "stream",
     "text": [
      "The mean shoe size is  7.556666666666667\n",
      "The mean after each shoe size is multiplied by 5 is   37.78333333333333\n"
     ]
    }
   ],
   "source": [
    "# Uncomment the code below and run it.\n",
    "print(\"The mean shoe size is \", (dfFootIQ[\"shoe_size\"]).mean())\n",
    "print(\"The mean after each shoe size is multiplied by 5 is  \", (dfFootIQ[\"shoe_size\"]*5).mean())"
   ]
  },
  {
   "cell_type": "markdown",
   "metadata": {},
   "source": [
    "***(4 points)*** Prove the pattern that you notice above will occur every time under multiplication."
   ]
  },
  {
   "cell_type": "markdown",
   "metadata": {},
   "source": [
    "$$\\bar{x} \\cdot a = \\frac{1}{n} \\displaystyle\\sum_{k=1}^n (x_k \\cdot a)$$\n",
    "\n",
    "$$\\bar{x} \\cdot a = \\frac{1}{n} \\displaystyle\\sum_{k=1}^n x_k \\cdot \\frac{1}{n}\\sum_{k=1}^n a$$\n",
    "\n",
    "$$\\bar{x} \\cdot a = \\bar{x} \\cdot \\frac{n\\cdot a}{n}$$\n",
    "\n",
    "$$\\bar{x} \\cdot a = \\bar{x} \\cdot a$$\n",
    "\n",
    "$$\\text{By direct proof it has been shown that multiplying each value by a will multiply the mean by a.}$$"
   ]
  },
  {
   "cell_type": "markdown",
   "metadata": {},
   "source": [
    "# Part D\n",
    "\n",
    "Again, suppose each data point in `shoe_size` were to be multiplied by 5."
   ]
  },
  {
   "cell_type": "code",
   "execution_count": 30,
   "metadata": {},
   "outputs": [
    {
     "name": "stdout",
     "output_type": "stream",
     "text": [
      "The shoe size standard deviation is  1.224113771362388\n",
      "The shoe size standard deviation after multiplying each point by 5 is  6.120568856811966\n"
     ]
    }
   ],
   "source": [
    "# Uncomment the code below and run it. \n",
    "\n",
    "print(\"The shoe size standard deviation is \", (dfFootIQ[\"shoe_size\"]).std())\n",
    "print(\"The shoe size standard deviation after multiplying each point by 5 is \", (dfFootIQ[\"shoe_size\"]*5).std())"
   ]
  },
  {
   "cell_type": "markdown",
   "metadata": {},
   "source": [
    "***(4 points)*** Prove the pattern that you notice above will occur every time under multiplication."
   ]
  },
  {
   "cell_type": "markdown",
   "metadata": {},
   "source": [
    "$$s = \\sqrt{\\frac{1}{n-1} \\sum_{k=1}^n \\left( x_k - \\bar{x}\\right)^2} $$\n",
    "\n",
    "$$\\text{As shown in the last step multiplying a with each value means that } \\bar{x} \\text{ becomes } (\\bar{x}\\cdot a)\\text{ so:}$$\n",
    "\n",
    "$$s \\cdot a = \\sqrt{\\frac{1}{n-1} \\sum_{k=1}^n \\left( (x_k\\cdot a) - (\\bar{x}\\cdot a)\\right)^2} $$\n",
    "\n",
    "$$s \\cdot a= \\sqrt{a\\cdot\\frac{1}{n-1}\\sum_{k=1}^n \\left( x_k - \\bar{x}\\right)^2} $$\n",
    "\n",
    "$$\\text{This is equal to a times the standard deviation so by direct proof it has been shown that multiplying}$$\n",
    "$$\\text{every value by a constant will multiply the standard deviation by that constant}$$"
   ]
  }
 ],
 "metadata": {
  "kernelspec": {
   "display_name": "Python 3 (ipykernel)",
   "language": "python",
   "name": "python3"
  },
  "language_info": {
   "codemirror_mode": {
    "name": "ipython",
    "version": 3
   },
   "file_extension": ".py",
   "mimetype": "text/x-python",
   "name": "python",
   "nbconvert_exporter": "python",
   "pygments_lexer": "ipython3",
   "version": "3.10.5"
  }
 },
 "nbformat": 4,
 "nbformat_minor": 4
}
